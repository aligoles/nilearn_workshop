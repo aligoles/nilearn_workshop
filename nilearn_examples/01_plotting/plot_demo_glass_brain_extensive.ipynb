{
  "nbformat_minor": 0, 
  "nbformat": 4, 
  "cells": [
    {
      "execution_count": null, 
      "cell_type": "code", 
      "source": [
        "%matplotlib inline"
      ], 
      "outputs": [], 
      "metadata": {
        "collapsed": false
      }
    }, 
    {
      "source": [
        "\nGlass brain plotting in nilearn (all options)\n=============================================\n\nFirst part of this example goes through different options of the\n:func:`nilearn.plotting.plot_glass_brain` function (including plotting\nnegative values).\n\nSecond part, goes through same options but selected of the same glass brain\nfunction but plotting is seen with contours.\n\nSee `plotting` for more plotting functionalities and\n`Section 4.3 <display_modules>` for more details about display objects\nin Nilearn.\n\nAlso, see :func:`nilearn.datasets.fetch_localizer_button_task` for details\nabout the plotting data and its experiments.\n\n"
      ], 
      "cell_type": "markdown", 
      "metadata": {}
    }, 
    {
      "source": [
        "Retrieve the data\n------------------\n\nNilearn comes with set of functions that download public data from Internet\n\nLet us first see where the data will be downloded and stored on our disk:\n\n\n"
      ], 
      "cell_type": "markdown", 
      "metadata": {}
    }, 
    {
      "execution_count": null, 
      "cell_type": "code", 
      "source": [
        "from nilearn import datasets\nprint('Datasets shipped with nilearn are stored in: %r' % datasets.get_data_dirs())"
      ], 
      "outputs": [], 
      "metadata": {
        "collapsed": false
      }
    }, 
    {
      "source": [
        "Let us now retrieve a motor task contrast maps corresponding to second subject\nfrom a localizer experiment\n\n"
      ], 
      "cell_type": "markdown", 
      "metadata": {}
    }, 
    {
      "execution_count": null, 
      "cell_type": "code", 
      "source": [
        "tmap_filenames = datasets.fetch_localizer_button_task()['tmaps']\nprint(tmap_filenames)"
      ], 
      "outputs": [], 
      "metadata": {
        "collapsed": false
      }
    }, 
    {
      "source": [
        "tmap_filenames is returned as a list. We need to take first one\n\n"
      ], 
      "cell_type": "markdown", 
      "metadata": {}
    }, 
    {
      "execution_count": null, 
      "cell_type": "code", 
      "source": [
        "tmap_filename = tmap_filenames[0]"
      ], 
      "outputs": [], 
      "metadata": {
        "collapsed": false
      }
    }, 
    {
      "source": [
        "Demo glass brain plotting\n--------------------------\n\n"
      ], 
      "cell_type": "markdown", 
      "metadata": {}
    }, 
    {
      "execution_count": null, 
      "cell_type": "code", 
      "source": [
        "from nilearn import plotting\n\n# Whole brain sagittal cuts and map is thresholded at 3\nplotting.plot_glass_brain(tmap_filename, threshold=3)"
      ], 
      "outputs": [], 
      "metadata": {
        "collapsed": false
      }
    }, 
    {
      "source": [
        "With a colorbar\n\n"
      ], 
      "cell_type": "markdown", 
      "metadata": {}
    }, 
    {
      "execution_count": null, 
      "cell_type": "code", 
      "source": [
        "plotting.plot_glass_brain(tmap_filename, threshold=3, colorbar=True)"
      ], 
      "outputs": [], 
      "metadata": {
        "collapsed": false
      }
    }, 
    {
      "source": [
        "Black background, and only the (x, z) cuts\n\n"
      ], 
      "cell_type": "markdown", 
      "metadata": {}
    }, 
    {
      "execution_count": null, 
      "cell_type": "code", 
      "source": [
        "plotting.plot_glass_brain(tmap_filename, title='plot_glass_brain',\n                          black_bg=True, display_mode='xz', threshold=3)"
      ], 
      "outputs": [], 
      "metadata": {
        "collapsed": false
      }
    }, 
    {
      "source": [
        "Plotting the sign of the activation with plot_abs to False\n\n"
      ], 
      "cell_type": "markdown", 
      "metadata": {}
    }, 
    {
      "execution_count": null, 
      "cell_type": "code", 
      "source": [
        "plotting.plot_glass_brain(tmap_filename, threshold=0, colorbar=True,\n                          plot_abs=False)"
      ], 
      "outputs": [], 
      "metadata": {
        "collapsed": false
      }
    }, 
    {
      "source": [
        "The sign of the activation and a colorbar\n\n"
      ], 
      "cell_type": "markdown", 
      "metadata": {}
    }, 
    {
      "execution_count": null, 
      "cell_type": "code", 
      "source": [
        "plotting.plot_glass_brain(tmap_filename, threshold=3,\n                          colorbar=True, plot_abs=False)"
      ], 
      "outputs": [], 
      "metadata": {
        "collapsed": false
      }
    }, 
    {
      "source": [
        "Different projections for the left and right hemispheres\n---------------------------------------------------------\n\nHemispheric sagittal cuts\n\n"
      ], 
      "cell_type": "markdown", 
      "metadata": {}
    }, 
    {
      "execution_count": null, 
      "cell_type": "code", 
      "source": [
        "plotting.plot_glass_brain(tmap_filename,\n                          title='plot_glass_brain with display_mode=\"lzr\"',\n                          black_bg=True, display_mode='lzr', threshold=3)"
      ], 
      "outputs": [], 
      "metadata": {
        "collapsed": false
      }
    }, 
    {
      "execution_count": null, 
      "cell_type": "code", 
      "source": [
        "plotting.plot_glass_brain(tmap_filename, threshold=0, colorbar=True,\n                          title='plot_glass_brain with display_mode=\"lyrz\"',\n                          plot_abs=False, display_mode='lyrz')"
      ], 
      "outputs": [], 
      "metadata": {
        "collapsed": false
      }
    }, 
    {
      "source": [
        "Demo glass brain plotting with contours and with fillings\n---------------------------------------------------------\nTo plot maps with contours, we call the plotting function into variable from\nwhich we can use specific display features which are inherited automatically.\nIn this case, we focus on using add_contours\nFirst, we initialize the plotting function into \"display\" and first\nargument set to None since we want an empty glass brain to plotting the\nstatistical maps with \"add_contours\"\n\n"
      ], 
      "cell_type": "markdown", 
      "metadata": {}
    }, 
    {
      "execution_count": null, 
      "cell_type": "code", 
      "source": [
        "display = plotting.plot_glass_brain(None)\n# Here, we project statistical maps\ndisplay.add_contours(tmap_filename)\n# and a title\ndisplay.title('\"tmap_filename\" on glass brain without threshold')"
      ], 
      "outputs": [], 
      "metadata": {
        "collapsed": false
      }
    }, 
    {
      "source": [
        "Plotting with `filled=True` implies contours with fillings. Here, we are not\nspecifying levels\n\n"
      ], 
      "cell_type": "markdown", 
      "metadata": {}
    }, 
    {
      "execution_count": null, 
      "cell_type": "code", 
      "source": [
        "display = plotting.plot_glass_brain(None)\n# Here, we project statistical maps with filled=True\ndisplay.add_contours(tmap_filename, filled=True)\n# and a title\ndisplay.title('Same map but with fillings in the contours')"
      ], 
      "outputs": [], 
      "metadata": {
        "collapsed": false
      }
    }, 
    {
      "source": [
        "Here, we input specific level (cut-off) in the statistical map. In other way,\nwe are thresholding our statistical map\n\n"
      ], 
      "cell_type": "markdown", 
      "metadata": {}
    }, 
    {
      "execution_count": null, 
      "cell_type": "code", 
      "source": [
        "# Here, we set the threshold using parameter called `levels` with value given\n# in a list and choosing color to Red.\ndisplay = plotting.plot_glass_brain(None)\ndisplay.add_contours(tmap_filename, levels=[3.], colors='r')\ndisplay.title('\"tmap_filename\" on glass brain with threshold')"
      ], 
      "outputs": [], 
      "metadata": {
        "collapsed": false
      }
    }, 
    {
      "source": [
        "Plotting with same demonstration but inlcudes now filled=True\n\n"
      ], 
      "cell_type": "markdown", 
      "metadata": {}
    }, 
    {
      "execution_count": null, 
      "cell_type": "code", 
      "source": [
        "display = plotting.plot_glass_brain(None)\ndisplay.add_contours(tmap_filename, filled=True, levels=[3.], colors='r')\ndisplay.title('Same demonstration but using fillings inside contours')"
      ], 
      "outputs": [], 
      "metadata": {
        "collapsed": false
      }
    }, 
    {
      "source": [
        "Plotting with black background, `black_bg` should be set with\n`plot_glass_brain`\n\n"
      ], 
      "cell_type": "markdown", 
      "metadata": {}
    }, 
    {
      "execution_count": null, 
      "cell_type": "code", 
      "source": [
        "# We can set black background using black_bg=True\ndisplay = plotting.plot_glass_brain(None, black_bg=True)\ndisplay.add_contours(tmap_filename, levels=[3.], colors='g')\ndisplay.title('\"tmap_filename\" on glass brain with black background')"
      ], 
      "outputs": [], 
      "metadata": {
        "collapsed": false
      }
    }, 
    {
      "source": [
        "Black background plotting with filled in contours\n\n"
      ], 
      "cell_type": "markdown", 
      "metadata": {}
    }, 
    {
      "execution_count": null, 
      "cell_type": "code", 
      "source": [
        "display = plotting.plot_glass_brain(None, black_bg=True)\ndisplay.add_contours(tmap_filename, filled=True, levels=[3.], colors='g')\ndisplay.title('Glass brain with black background and filled in contours')"
      ], 
      "outputs": [], 
      "metadata": {
        "collapsed": false
      }
    }, 
    {
      "source": [
        "Display contour projections in both hemispheres\n-------------------------------------------------\nKey argument to vary here is `display_mode` for hemispheric plotting\n\n"
      ], 
      "cell_type": "markdown", 
      "metadata": {}
    }, 
    {
      "execution_count": null, 
      "cell_type": "code", 
      "source": [
        "# Now, display_mode is chosen as 'lr' for both hemispheric plots\ndisplay = plotting.plot_glass_brain(None, display_mode='lr')\ndisplay.add_contours(tmap_filename, levels=[3.], colors='r')\ndisplay.title('\"tmap_filename\" on glass brain only \"l\" \"r\" hemispheres')"
      ], 
      "outputs": [], 
      "metadata": {
        "collapsed": false
      }
    }, 
    {
      "source": [
        "Filled contours in both hemispheric plotting, just by adding filled=True\n\n"
      ], 
      "cell_type": "markdown", 
      "metadata": {}
    }, 
    {
      "execution_count": null, 
      "cell_type": "code", 
      "source": [
        "display = plotting.plot_glass_brain(None, display_mode='lr')\ndisplay.add_contours(tmap_filename, filled=True, levels=[3.], colors='r')\ndisplay.title('Filled contours on glass brain only \"l\" \"r\" hemispheres')"
      ], 
      "outputs": [], 
      "metadata": {
        "collapsed": false
      }
    }, 
    {
      "source": [
        "With positive and negative sign of activations with `plot_abs` in\n`plot_glass_brain`\n\n"
      ], 
      "cell_type": "markdown", 
      "metadata": {}
    }, 
    {
      "execution_count": null, 
      "cell_type": "code", 
      "source": [
        "# By default parameter `plot_abs` is True and sign of activations can be\n# displayed by changing `plot_abs` to False\ndisplay = plotting.plot_glass_brain(None, plot_abs=False, display_mode='lzry')\ndisplay.add_contours(tmap_filename)\ndisplay.title(\"Contours with both sign of activations without threshold\")"
      ], 
      "outputs": [], 
      "metadata": {
        "collapsed": false
      }
    }, 
    {
      "source": [
        "Now, adding just filled=True to get positive and negative sign activations\nwith fillings in the contours\n\n"
      ], 
      "cell_type": "markdown", 
      "metadata": {}
    }, 
    {
      "execution_count": null, 
      "cell_type": "code", 
      "source": [
        "display = plotting.plot_glass_brain(None, plot_abs=False, display_mode='lzry')\ndisplay.add_contours(tmap_filename, filled=True)\ndisplay.title(\"Filled contours with both sign of activations without threshold\")"
      ], 
      "outputs": [], 
      "metadata": {
        "collapsed": false
      }
    }, 
    {
      "source": [
        "Displaying both signs (positive and negative) of activations with threshold\nmeaning thresholding by adding an argument `levels` in add_contours.\n\n"
      ], 
      "cell_type": "markdown", 
      "metadata": {}
    }, 
    {
      "execution_count": null, 
      "cell_type": "code", 
      "source": [
        "import numpy as np\ndisplay = plotting.plot_glass_brain(None, plot_abs=False, display_mode='lzry')\n\n# In add_contours,\n# we give two values through the argument `levels` which corresponds to the\n# thresholds of the contour we want to draw: One is positive and the other one\n# is negative. We give a list of `colors` as argument to associate a different\n# color to each contour. Additionally, we also choose to plot contours with\n# thick line widths, For linewidths one value would be enough so that same\n# value is used for both contours.\ndisplay.add_contours(tmap_filename, levels=[-2.8, 3.], colors=['b', 'r'],\n                     linewidths=4.)\ndisplay.title('Contours with sign of activations with threshold')"
      ], 
      "outputs": [], 
      "metadata": {
        "collapsed": false
      }
    }, 
    {
      "source": [
        "Same display demonstration as above but just adding filled=True to get\nfillings inside the contours.\n\n"
      ], 
      "cell_type": "markdown", 
      "metadata": {}
    }, 
    {
      "execution_count": null, 
      "cell_type": "code", 
      "source": [
        "# Unlike in previous plot, here we specify each sign at a time. We call negative\n# values display first followed by positive values display.\n\n# First, we fetch our display object with same parametes used as above\ndisplay = plotting.plot_glass_brain(None, plot_abs=False, display_mode='lzry')\n\n# Second, we plot negative sign of activation with levels given as negative\n# activation value in a list. Upper bound should be kept to -infinity\ndisplay.add_contours(tmap_filename, filled=True, levels=[-np.inf, -2.8],\n                     colors='b')\n# Next, within same plotting object we plot positive sign of activation\ndisplay.add_contours(tmap_filename, filled=True, levels=[3.], colors='r')\ndisplay.title('Now same plotting but with filled contours')\n\n# Finally, displaying them\nplotting.show()"
      ], 
      "outputs": [], 
      "metadata": {
        "collapsed": false
      }
    }
  ], 
  "metadata": {
    "kernelspec": {
      "display_name": "Python 2", 
      "name": "python2", 
      "language": "python"
    }, 
    "language_info": {
      "mimetype": "text/x-python", 
      "nbconvert_exporter": "python", 
      "name": "python", 
      "file_extension": ".py", 
      "version": "2.7.13", 
      "pygments_lexer": "ipython2", 
      "codemirror_mode": {
        "version": 2, 
        "name": "ipython"
      }
    }
  }
}