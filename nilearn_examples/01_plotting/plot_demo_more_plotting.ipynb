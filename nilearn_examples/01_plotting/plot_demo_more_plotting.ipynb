{
  "nbformat_minor": 0, 
  "nbformat": 4, 
  "cells": [
    {
      "execution_count": null, 
      "cell_type": "code", 
      "source": [
        "%matplotlib inline"
      ], 
      "outputs": [], 
      "metadata": {
        "collapsed": false
      }
    }, 
    {
      "source": [
        "\nMore plotting tools from nilearn\n================================\n\nIn this example, we demonstrate how to use plotting options from\nnilearn essential in visualizing brain image analysis results.\n\nWe emphasize the use of parameters such as `display_mode` and `cut_coords`\nwith plotting function :func:`nilearn.plotting.plot_stat_map`. Also,\nwe show how to use various features such as `add_edges`, `add_contours`,\n`add_markers` essential in visualizing regions of interest images or\nmask images overlaying on subject specific anatomical/EPI image.\nThe display features shown here are inherited from the\n:class:`nilearn.plotting.displays.OrthoSlicer` class.\n\nThe parameter `display_mode` is used to draw brain slices along given\nspecific directions, where directions can be one of 'ortho',\n'x', 'y', 'z', 'xy', 'xz', 'yz'. whereas parameter `cut_coords`\nis used to specify a limited number of slices to visualize along given\nspecific slice direction. The parameter `cut_coords` can also be used\nto draw the specific cuts in the slices by giving its particular\ncoordinates in MNI space accordingly with particular slice direction.\nThis helps us point to the activation specific location of the brain slices.\n\nSee `plotting` for more details.\n\n"
      ], 
      "cell_type": "markdown", 
      "metadata": {}
    }, 
    {
      "source": [
        "First, we retrieve data from nilearn provided (general-purpose) datasets\n-------------------------------------------------------------------------\n\n"
      ], 
      "cell_type": "markdown", 
      "metadata": {}
    }, 
    {
      "execution_count": null, 
      "cell_type": "code", 
      "source": [
        "from nilearn import datasets\n\n# haxby dataset to have anatomical image, EPI images and masks\nhaxby_dataset = datasets.fetch_haxby()\nhaxby_anat_filename = haxby_dataset.anat[0]\nhaxby_mask_filename = haxby_dataset.mask_vt[0]\nhaxby_func_filename = haxby_dataset.func[0]\n\n# localizer dataset to have contrast maps\nlocalizer_dataset = datasets.fetch_localizer_button_task(get_anats=True)\nlocalizer_anat_filename = localizer_dataset.anats[0]\nlocalizer_tmap_filename = localizer_dataset.tmaps[0]"
      ], 
      "outputs": [], 
      "metadata": {
        "collapsed": false
      }
    }, 
    {
      "source": [
        "Now, we show from here how to visualize the retrieved datasets using plotting\ntools from nilearn.\n\n"
      ], 
      "cell_type": "markdown", 
      "metadata": {}
    }, 
    {
      "execution_count": null, 
      "cell_type": "code", 
      "source": [
        "from nilearn import plotting"
      ], 
      "outputs": [], 
      "metadata": {
        "collapsed": false
      }
    }, 
    {
      "source": [
        "Visualizing in - 'sagittal', 'coronal' and 'axial' with given coordinates\n-------------------------------------------------------------------------\nThe first argument is a path to the filename of a constrast map,\noptional argument `display_mode` is given as string 'ortho' to visualize\nthe map in three specific directions xyz and the optional `cut_coords`\nargument, is here a list of integers denotes coordinates of each slice\nin the order [x, y, z]. By default the `colorbar` argument is set to True\nin plot_stat_map.\n\n"
      ], 
      "cell_type": "markdown", 
      "metadata": {}
    }, 
    {
      "execution_count": null, 
      "cell_type": "code", 
      "source": [
        "plotting.plot_stat_map(localizer_tmap_filename, display_mode='ortho',\n                       cut_coords=[36, -27, 60],\n                       title=\"display_mode='ortho', cut_coords=[36, -27, 60]\")"
      ], 
      "outputs": [], 
      "metadata": {
        "collapsed": false
      }
    }, 
    {
      "source": [
        "Visualizing in - single view 'axial' with number of cuts=5\n-----------------------------------------------------------\nIn this type of visualization, the `display_mode` argument is given as\nstring 'z' for axial direction and `cut_coords` as integer 5 without a\nlist implies that number of cuts in the slices should be maximum of 5.\nThe coordinates to cut the slices are selected automatically\n\n"
      ], 
      "cell_type": "markdown", 
      "metadata": {}
    }, 
    {
      "execution_count": null, 
      "cell_type": "code", 
      "source": [
        "plotting.plot_stat_map(localizer_tmap_filename, display_mode='z', cut_coords=5,\n                       title=\"display_mode='z', cut_coords=5\")"
      ], 
      "outputs": [], 
      "metadata": {
        "collapsed": false
      }
    }, 
    {
      "source": [
        "Visualizing in - single view 'sagittal' with only two slices\n-------------------------------------------------------------\nIn this type, `display_mode` should be given as string 'x' for sagittal\nview and coordinates should be given as integers in a list\n\n"
      ], 
      "cell_type": "markdown", 
      "metadata": {}
    }, 
    {
      "execution_count": null, 
      "cell_type": "code", 
      "source": [
        "plotting.plot_stat_map(localizer_tmap_filename, display_mode='x',\n                       cut_coords=[-36, 36],\n                       title=\"display_mode='x', cut_coords=[-36, 36]\")"
      ], 
      "outputs": [], 
      "metadata": {
        "collapsed": false
      }
    }, 
    {
      "source": [
        "Visualizing in - 'coronal' view with single cut\n------------------------------------------------\nFor coronal view, `display_mode` is given as string 'y' and `cut_coords`\nas integer 1 not as a list for single cut. The coordinates are selected\nautomatically\n\n"
      ], 
      "cell_type": "markdown", 
      "metadata": {}
    }, 
    {
      "execution_count": null, 
      "cell_type": "code", 
      "source": [
        "plotting.plot_stat_map(localizer_tmap_filename, display_mode='y', cut_coords=1,\n                       title=\"display_mode='y', cut_coords=1\")"
      ], 
      "outputs": [], 
      "metadata": {
        "collapsed": false
      }
    }, 
    {
      "source": [
        "Visualizing without a colorbar on the right side\n-------------------------------------------------\nThe argument `colorbar` should be given as False to show plots without\na colorbar on the right side.\n\n"
      ], 
      "cell_type": "markdown", 
      "metadata": {}
    }, 
    {
      "execution_count": null, 
      "cell_type": "code", 
      "source": [
        "plotting.plot_stat_map(localizer_tmap_filename, display_mode='z',\n                       cut_coords=1, colorbar=False,\n                       title=\"display_mode='z', cut_coords=1, colorbar=False\")"
      ], 
      "outputs": [], 
      "metadata": {
        "collapsed": false
      }
    }, 
    {
      "source": [
        "Visualize in - two views 'sagittal' and 'axial' with given coordinates\n-------------------------------------------------------------------------\nargument display_mode='xz' where 'x' for sagittal and 'z' for axial view.\nargument `cut_coords` should match with input number of views therefore two\nintegers should be given in a list to select the slices to be displayed\n\n"
      ], 
      "cell_type": "markdown", 
      "metadata": {}
    }, 
    {
      "execution_count": null, 
      "cell_type": "code", 
      "source": [
        "plotting.plot_stat_map(localizer_tmap_filename, display_mode='xz',\n                       cut_coords=[36, 60],\n                       title=\"display_mode='xz', cut_coords=[36, 60]\")"
      ], 
      "outputs": [], 
      "metadata": {
        "collapsed": false
      }
    }, 
    {
      "source": [
        "Changing the views to 'coronal', 'sagittal' views with coordinates\n-------------------------------------------------------------------\ndisplay_mode='yx' for coronal and saggital view and coordinates will be\nassigned in the order of direction as [x, y, z]\n\n"
      ], 
      "cell_type": "markdown", 
      "metadata": {}
    }, 
    {
      "execution_count": null, 
      "cell_type": "code", 
      "source": [
        "plotting.plot_stat_map(localizer_tmap_filename, display_mode='yx',\n                       cut_coords=[-27, 36],\n                       title=\"display_mode='yx', cut_coords=[-27, 36]\")"
      ], 
      "outputs": [], 
      "metadata": {
        "collapsed": false
      }
    }, 
    {
      "source": [
        "Now, views are changed to 'coronal' and 'axial' views with coordinates\n-----------------------------------------------------------------------\n\n"
      ], 
      "cell_type": "markdown", 
      "metadata": {}
    }, 
    {
      "execution_count": null, 
      "cell_type": "code", 
      "source": [
        "plotting.plot_stat_map(localizer_tmap_filename, display_mode='yz',\n                       cut_coords=[-27, 60],\n                       title=\"display_mode='yz', cut_coords=[-27, 60]\")"
      ], 
      "outputs": [], 
      "metadata": {
        "collapsed": false
      }
    }, 
    {
      "source": [
        "Demonstrating various display features\n---------------------------------------\nIn second part, we switch to demonstrating various features add_* from\nnilearn where each specific feature will be helpful in projecting brain\nimaging results for further interpretation.\n\n"
      ], 
      "cell_type": "markdown", 
      "metadata": {}
    }, 
    {
      "execution_count": null, 
      "cell_type": "code", 
      "source": [
        "# Import image processing tool for basic processing of functional brain image\nfrom nilearn import image\n\n# Compute voxel-wise mean functional image across time dimension. Now we have\n# functional image in 3D assigned in mean_haxby_img\nmean_haxby_img = image.mean_img(haxby_func_filename)"
      ], 
      "outputs": [], 
      "metadata": {
        "collapsed": false
      }
    }, 
    {
      "source": [
        "Showing how to use `add_edges`\n------------------------------\nNow let us see how to use `add_edges`, method useful for checking\ncoregistration by overlaying anatomical image as edges (red) on top of\nmean functional image (background), both being of same subject.\n\n"
      ], 
      "cell_type": "markdown", 
      "metadata": {}
    }, 
    {
      "execution_count": null, 
      "cell_type": "code", 
      "source": [
        "# First, we call the `plot_anat` plotting function, with a background image\n# as first argument, in this case the mean fMRI image.\n\ndisplay = plotting.plot_anat(mean_haxby_img, title=\"add_edges\")\n\n# We are now able to use add_edges method inherited in plotting object named as\n# display. First argument - anatomical image  and by default edges will be\n# displayed as red 'r', to choose different colors green 'g' and  blue 'b'.\ndisplay.add_edges(haxby_anat_filename)"
      ], 
      "outputs": [], 
      "metadata": {
        "collapsed": false
      }
    }, 
    {
      "source": [
        "How to use `add_contours`\n-------------------------\nPlotting outline of the mask (red) on top of the mean EPI image with\n`add_contours`. This method is useful for region specific interpretation\nof brain images\n\n"
      ], 
      "cell_type": "markdown", 
      "metadata": {}
    }, 
    {
      "execution_count": null, 
      "cell_type": "code", 
      "source": [
        "# As seen before, we call the `plot_anat` function with a background image\n# as first argument, in this case again the mean fMRI image and argument\n# `cut_coords` as list for manual cut with coordinates pointing at masked\n# brain regions\ndisplay = plotting.plot_anat(mean_haxby_img, title=\"add_contours\",\n                             cut_coords=[-34, -39, -9])\n# Now use `add_contours` in display object with the path to a mask image from\n# the Haxby dataset as first argument and argument `levels` given as list\n# of values to select particular level in the contour to display and argument\n# `colors` specified as red 'r' to see edges as red in color.\n# See help on matplotlib.pyplot.contour to use more options with this method\ndisplay.add_contours(haxby_mask_filename, levels=[0.5], colors='r')"
      ], 
      "outputs": [], 
      "metadata": {
        "collapsed": false
      }
    }, 
    {
      "source": [
        "Plotting outline of the mask (blue) with color fillings using same method\n`add_contours`.\n\n"
      ], 
      "cell_type": "markdown", 
      "metadata": {}
    }, 
    {
      "execution_count": null, 
      "cell_type": "code", 
      "source": [
        "display = plotting.plot_anat(mean_haxby_img,\n                             title=\"add_contours with filled=True\",\n                             cut_coords=[-34, -39, -9])\n\n# By default, no color fillings will be shown using `add_contours`. To see\n# contours with color fillings use argument filled=True. contour colors are\n# changed to blue 'b' with alpha=0.7 sets the transparency of color fillings.\n# See help on matplotlib.pyplot.contourf to use more options given that filled\n# should be True\ndisplay.add_contours(haxby_mask_filename, filled=True, alpha=0.7,\n                     levels=[0.5], colors='b')"
      ], 
      "outputs": [], 
      "metadata": {
        "collapsed": false
      }
    }, 
    {
      "source": [
        "Plotting seeds using `add_markers`\n----------------------------------\nPlotting seed regions of interest as spheres using new feature `add_markers`\nwith MNI coordinates of interest.\n\n"
      ], 
      "cell_type": "markdown", 
      "metadata": {}
    }, 
    {
      "execution_count": null, 
      "cell_type": "code", 
      "source": [
        "display = plotting.plot_anat(mean_haxby_img, title=\"add_markers\",\n                             cut_coords=[-34, -39, -9])\n\n# Coordinates of seed regions should be specified in first argument and second\n# argument `marker_color` denotes color of the sphere in this case yellow 'y'\n# and third argument `marker_size` denotes size of the sphere\ncoords = [(-34, -39, -9)]\ndisplay.add_markers(coords, marker_color='y', marker_size=100)"
      ], 
      "outputs": [], 
      "metadata": {
        "collapsed": false
      }
    }, 
    {
      "source": [
        "Finally, saving the plots to file with two different ways\n\n"
      ], 
      "cell_type": "markdown", 
      "metadata": {}
    }, 
    {
      "execution_count": null, 
      "cell_type": "code", 
      "source": [
        "# Contrast maps plotted with function `plot_stat_map` can be saved using an\n# inbuilt parameter output_file as filename + .extension as string. Valid\n# extensions are .png, .pdf, .svg\nplotting.plot_stat_map(localizer_tmap_filename,\n                       title='Using plot_stat_map output_file',\n                       output_file='plot_stat_map.png')"
      ], 
      "outputs": [], 
      "metadata": {
        "collapsed": false
      }
    }, 
    {
      "source": [
        "Another way of saving plots is using 'savefig' option from display object\n\n"
      ], 
      "cell_type": "markdown", 
      "metadata": {}
    }, 
    {
      "execution_count": null, 
      "cell_type": "code", 
      "source": [
        "display = plotting.plot_stat_map(localizer_tmap_filename,\n                                 title='Using display savefig')\ndisplay.savefig('plot_stat_map_from_display.png')\n# In non-interactive settings make sure you close your displays\ndisplay.close()\n\nplotting.show()"
      ], 
      "outputs": [], 
      "metadata": {
        "collapsed": false
      }
    }
  ], 
  "metadata": {
    "kernelspec": {
      "display_name": "Python 2", 
      "name": "python2", 
      "language": "python"
    }, 
    "language_info": {
      "mimetype": "text/x-python", 
      "nbconvert_exporter": "python", 
      "name": "python", 
      "file_extension": ".py", 
      "version": "2.7.13", 
      "pygments_lexer": "ipython2", 
      "codemirror_mode": {
        "version": 2, 
        "name": "ipython"
      }
    }
  }
}