{
  "nbformat_minor": 0, 
  "nbformat": 4, 
  "cells": [
    {
      "execution_count": null, 
      "cell_type": "code", 
      "source": [
        "%matplotlib inline"
      ], 
      "outputs": [], 
      "metadata": {
        "collapsed": false
      }
    }, 
    {
      "source": [
        "\nControling the contrast of the background when plotting\n=========================================================\n\nThe `dim` argument controls the contrast of the background.\n\n*dim* modifies the contrast of this image: dim=0 leaves the image\nunchanged, negative values of *dim* enhance it, and positive values\ndecrease it (dim the background).\n\nThis *dim* argument may also be useful for the plot_roi function used to\ndisplay ROIs on top of a background image.\n\n"
      ], 
      "cell_type": "markdown", 
      "metadata": {}
    }, 
    {
      "source": [
        "Retrieve the data: the localizer dataset with contrast maps\n-----------------------------------------------------------\n\n"
      ], 
      "cell_type": "markdown", 
      "metadata": {}
    }, 
    {
      "execution_count": null, 
      "cell_type": "code", 
      "source": [
        "from nilearn import datasets\n\nlocalizer_dataset = datasets.fetch_localizer_button_task(get_anats=True)\nlocalizer_anat_filename = localizer_dataset.anats[0]\nlocalizer_tmap_filename = localizer_dataset.tmaps[0]"
      ], 
      "outputs": [], 
      "metadata": {
        "collapsed": false
      }
    }, 
    {
      "source": [
        "Plotting with enhancement of background image with dim=-.5\n----------------------------------------------------------\n\n"
      ], 
      "cell_type": "markdown", 
      "metadata": {}
    }, 
    {
      "execution_count": null, 
      "cell_type": "code", 
      "source": [
        "from nilearn import plotting\nplotting.plot_stat_map(localizer_tmap_filename,\n                       bg_img=localizer_anat_filename,\n                       cut_coords=(36, -27, 66),\n                       threshold=3, title=\"dim=-.5\",\n                       dim=-.5)"
      ], 
      "outputs": [], 
      "metadata": {
        "collapsed": false
      }
    }, 
    {
      "source": [
        "Plotting with no change of contrast in background image with dim=0\n-------------------------------------------------------------------\n\n"
      ], 
      "cell_type": "markdown", 
      "metadata": {}
    }, 
    {
      "execution_count": null, 
      "cell_type": "code", 
      "source": [
        "plotting.plot_stat_map(localizer_tmap_filename,\n                       bg_img=localizer_anat_filename,\n                       cut_coords=(36, -27, 66),\n                       threshold=3, title=\"dim=0\",\n                       dim=0)"
      ], 
      "outputs": [], 
      "metadata": {
        "collapsed": false
      }
    }, 
    {
      "source": [
        "Plotting with decrease of constrast in background image with dim=.5\n-------------------------------------------------------------------\n\n"
      ], 
      "cell_type": "markdown", 
      "metadata": {}
    }, 
    {
      "execution_count": null, 
      "cell_type": "code", 
      "source": [
        "plotting.plot_stat_map(localizer_tmap_filename,\n                       bg_img=localizer_anat_filename,\n                       cut_coords=(36, -27, 66),\n                       threshold=3, title=\"dim=.5\",\n                       dim=.5)"
      ], 
      "outputs": [], 
      "metadata": {
        "collapsed": false
      }
    }, 
    {
      "source": [
        "Plotting with more decrease in constrast with dim=1\n---------------------------------------------------\n\n"
      ], 
      "cell_type": "markdown", 
      "metadata": {}
    }, 
    {
      "execution_count": null, 
      "cell_type": "code", 
      "source": [
        "plotting.plot_stat_map(localizer_tmap_filename,\n                       bg_img=localizer_anat_filename,\n                       cut_coords=(36, -27, 66),\n                       threshold=3, title=\"dim=1\",\n                       dim=1)\n\nplotting.show()"
      ], 
      "outputs": [], 
      "metadata": {
        "collapsed": false
      }
    }
  ], 
  "metadata": {
    "kernelspec": {
      "display_name": "Python 2", 
      "name": "python2", 
      "language": "python"
    }, 
    "language_info": {
      "mimetype": "text/x-python", 
      "nbconvert_exporter": "python", 
      "name": "python", 
      "file_extension": ".py", 
      "version": "2.7.13", 
      "pygments_lexer": "ipython2", 
      "codemirror_mode": {
        "version": 2, 
        "name": "ipython"
      }
    }
  }
}