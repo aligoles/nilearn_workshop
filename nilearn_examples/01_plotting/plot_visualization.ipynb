{
  "nbformat_minor": 0, 
  "nbformat": 4, 
  "cells": [
    {
      "execution_count": null, 
      "cell_type": "code", 
      "source": [
        "%matplotlib inline"
      ], 
      "outputs": [], 
      "metadata": {
        "collapsed": false
      }
    }, 
    {
      "source": [
        "\nNeuroImaging volumes visualization\n==================================\n\nSimple example to show Nifti data visualization.\n\n"
      ], 
      "cell_type": "markdown", 
      "metadata": {}
    }, 
    {
      "source": [
        "Fetch data\n----------\n\n"
      ], 
      "cell_type": "markdown", 
      "metadata": {}
    }, 
    {
      "execution_count": null, 
      "cell_type": "code", 
      "source": [
        "from nilearn import datasets\n\n# By default 2nd subject will be fetched\nhaxby_dataset = datasets.fetch_haxby()\n\n# print basic information on the dataset\nprint('First anatomical nifti image (3D) located is at: %s' %\n      haxby_dataset.anat[0])\nprint('First functional nifti image (4D) is located at: %s' %\n      haxby_dataset.func[0])"
      ], 
      "outputs": [], 
      "metadata": {
        "collapsed": false
      }
    }, 
    {
      "source": [
        "Visualization\n-------------\n\n"
      ], 
      "cell_type": "markdown", 
      "metadata": {}
    }, 
    {
      "execution_count": null, 
      "cell_type": "code", 
      "source": [
        "from nilearn.image.image import mean_img\n\n# Compute the mean EPI: we do the mean along the axis 3, which is time\nfunc_filename = haxby_dataset.func[0]\nmean_haxby = mean_img(func_filename)\n\nfrom nilearn.plotting import plot_epi, show\nplot_epi(mean_haxby)"
      ], 
      "outputs": [], 
      "metadata": {
        "collapsed": false
      }
    }, 
    {
      "source": [
        "Extracting a brain mask\n-----------------------\nSimple computation of a mask from the fMRI data\n\n"
      ], 
      "cell_type": "markdown", 
      "metadata": {}
    }, 
    {
      "execution_count": null, 
      "cell_type": "code", 
      "source": [
        "from nilearn.masking import compute_epi_mask\nmask_img = compute_epi_mask(func_filename)\n\n# Visualize it as an ROI\nfrom nilearn.plotting import plot_roi\nplot_roi(mask_img, mean_haxby)"
      ], 
      "outputs": [], 
      "metadata": {
        "collapsed": false
      }
    }, 
    {
      "source": [
        "Applying the mask to extract the corresponding time series\n----------------------------------------------------------\n\n"
      ], 
      "cell_type": "markdown", 
      "metadata": {}
    }, 
    {
      "execution_count": null, 
      "cell_type": "code", 
      "source": [
        "from nilearn.masking import apply_mask\nmasked_data = apply_mask(func_filename, mask_img)\n\n# masked_data shape is (timepoints, voxels). We can plot the first 150\n# timepoints from two voxels\n\n# And now plot a few of these\nimport matplotlib.pyplot as plt\nplt.figure(figsize=(7, 5))\nplt.plot(masked_data[:150, :2])\nplt.xlabel('Time [TRs]', fontsize=16)\nplt.ylabel('Intensity', fontsize=16)\nplt.xlim(0, 150)\nplt.subplots_adjust(bottom=.12, top=.95, right=.95, left=.12)\n\nshow()"
      ], 
      "outputs": [], 
      "metadata": {
        "collapsed": false
      }
    }
  ], 
  "metadata": {
    "kernelspec": {
      "display_name": "Python 2", 
      "name": "python2", 
      "language": "python"
    }, 
    "language_info": {
      "mimetype": "text/x-python", 
      "nbconvert_exporter": "python", 
      "name": "python", 
      "file_extension": ".py", 
      "version": "2.7.13", 
      "pygments_lexer": "ipython2", 
      "codemirror_mode": {
        "version": 2, 
        "name": "ipython"
      }
    }
  }
}