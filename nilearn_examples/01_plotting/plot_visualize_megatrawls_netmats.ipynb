{
  "nbformat_minor": 0, 
  "nbformat": 4, 
  "cells": [
    {
      "execution_count": null, 
      "cell_type": "code", 
      "source": [
        "%matplotlib inline"
      ], 
      "outputs": [], 
      "metadata": {
        "collapsed": false
      }
    }, 
    {
      "source": [
        "\nVisualizing Megatrawls Network Matrices from Human Connectome Project\n=====================================================================\n\nThis example shows how to fetch network matrices data from HCP beta-release\nof the Functional Connectivity Megatrawl project.\n\nSee :func:`nilearn.datasets.fetch_megatrawls_netmats` documentation for more details.\n\n"
      ], 
      "cell_type": "markdown", 
      "metadata": {}
    }, 
    {
      "source": [
        "Fetching the Megatrawls Network matrices\n----------------------------------------\nFetching the partial correlation matrices of dimensionality d=300 with\ntimeseries method 'eigen regression'\n\n"
      ], 
      "cell_type": "markdown", 
      "metadata": {}
    }, 
    {
      "execution_count": null, 
      "cell_type": "code", 
      "source": [
        "from nilearn import datasets\n\nnetmats = datasets.fetch_megatrawls_netmats(dimensionality=300,\n                                            timeseries='eigen_regression',\n                                            matrices='partial_correlation')\n# Partial correlation matrices array of size (300, 300) are stored in the name\n# of 'correlation_matrices'\npartial_correlation = netmats.correlation_matrices"
      ], 
      "outputs": [], 
      "metadata": {
        "collapsed": false
      }
    }, 
    {
      "source": [
        "Visualization\n-------------\nImport matplotlib and nilearn plotting modules to use its utilities for\nplotting correlation matrices\n\n"
      ], 
      "cell_type": "markdown", 
      "metadata": {}
    }, 
    {
      "execution_count": null, 
      "cell_type": "code", 
      "source": [
        "import matplotlib.pyplot as plt\nfrom nilearn import plotting\n\ntitle = \"Partial correlation matrices of d=300'\"\nplt.figure()\nplt.imshow(partial_correlation, interpolation=\"nearest\", cmap=plotting.cm.bwr)\nplt.colorbar()\nplt.title(title)\nplt.show()"
      ], 
      "outputs": [], 
      "metadata": {
        "collapsed": false
      }
    }
  ], 
  "metadata": {
    "kernelspec": {
      "display_name": "Python 2", 
      "name": "python2", 
      "language": "python"
    }, 
    "language_info": {
      "mimetype": "text/x-python", 
      "nbconvert_exporter": "python", 
      "name": "python", 
      "file_extension": ".py", 
      "version": "2.7.13", 
      "pygments_lexer": "ipython2", 
      "codemirror_mode": {
        "version": 2, 
        "name": "ipython"
      }
    }
  }
}