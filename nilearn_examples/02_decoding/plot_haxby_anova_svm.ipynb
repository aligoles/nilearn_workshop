{
  "nbformat_minor": 0, 
  "nbformat": 4, 
  "cells": [
    {
      "execution_count": null, 
      "cell_type": "code", 
      "source": [
        "%matplotlib inline"
      ], 
      "outputs": [], 
      "metadata": {
        "collapsed": false
      }
    }, 
    {
      "source": [
        "\nDecoding with ANOVA + SVM: face vs house in the Haxby dataset\n===============================================================\n\nThis example does a simple but efficient decoding on the Haxby dataset:\nusing a feature selection, followed by an SVM.\n\n\n"
      ], 
      "cell_type": "markdown", 
      "metadata": {}
    }, 
    {
      "source": [
        "Retrieve the files of the Haxby dataset\n----------------------------------------\n\n"
      ], 
      "cell_type": "markdown", 
      "metadata": {}
    }, 
    {
      "execution_count": null, 
      "cell_type": "code", 
      "source": [
        "from nilearn import datasets\n\n# By default 2nd subject will be fetched\nhaxby_dataset = datasets.fetch_haxby()\n\n# print basic information on the dataset\nprint('Mask nifti image (3D) is located at: %s' % haxby_dataset.mask)\nprint('Functional nifti image (4D) is located at: %s' %\n      haxby_dataset.func[0])"
      ], 
      "outputs": [], 
      "metadata": {
        "collapsed": false
      }
    }, 
    {
      "source": [
        "Load the behavioral data\n-------------------------\n\n"
      ], 
      "cell_type": "markdown", 
      "metadata": {}
    }, 
    {
      "execution_count": null, 
      "cell_type": "code", 
      "source": [
        "import numpy as np\n# Load target information as string and give a numerical identifier to each\nbehavioral = np.recfromcsv(haxby_dataset.session_target[0], delimiter=\" \")\nconditions = behavioral['labels']\n\n# Restrict the analysis to faces and places\ncondition_mask = np.logical_or(conditions == b'face', conditions == b'house')\nconditions = conditions[condition_mask]\n\n# We now have 2 conditions\nprint(np.unique(conditions))\nsession = behavioral[condition_mask]"
      ], 
      "outputs": [], 
      "metadata": {
        "collapsed": false
      }
    }, 
    {
      "source": [
        "Prepare the fMRI data: smooth and apply the mask\n-------------------------------------------------\n\n"
      ], 
      "cell_type": "markdown", 
      "metadata": {}
    }, 
    {
      "execution_count": null, 
      "cell_type": "code", 
      "source": [
        "from nilearn.input_data import NiftiMasker\n\nmask_filename = haxby_dataset.mask\n\n# For decoding, standardizing is often very important\n# note that we are also smoothing the data\nmasker = NiftiMasker(mask_img=mask_filename, smoothing_fwhm=4,\n                     standardize=True, memory=\"nilearn_cache\", memory_level=1)\nfunc_filename = haxby_dataset.func[0]\nX = masker.fit_transform(func_filename)\n# Apply our condition_mask\nX = X[condition_mask]"
      ], 
      "outputs": [], 
      "metadata": {
        "collapsed": false
      }
    }, 
    {
      "source": [
        "Build the decoder\n------------------\nDefine the prediction function to be used.\nHere we use a Support Vector Classification, with a linear kernel\n\n"
      ], 
      "cell_type": "markdown", 
      "metadata": {}
    }, 
    {
      "execution_count": null, 
      "cell_type": "code", 
      "source": [
        "from sklearn.svm import SVC\nsvc = SVC(kernel='linear')\n\n# Define the dimension reduction to be used.\n# Here we use a classical univariate feature selection based on F-test,\n# namely Anova. When doing full-brain analysis, it is better to use\n# SelectPercentile, keeping 5% of voxels\n# (because it is independent of the resolution of the data).\nfrom sklearn.feature_selection import SelectPercentile, f_classif\nfeature_selection = SelectPercentile(f_classif, percentile=5)\n\n# We have our classifier (SVC), our feature selection (SelectPercentile),and now,\n# we can plug them together in a *pipeline* that performs the two operations\n# successively:\nfrom sklearn.pipeline import Pipeline\nanova_svc = Pipeline([('anova', feature_selection), ('svc', svc)])"
      ], 
      "outputs": [], 
      "metadata": {
        "collapsed": false
      }
    }, 
    {
      "source": [
        "Fit the decoder and predict\n----------------------------\n\n"
      ], 
      "cell_type": "markdown", 
      "metadata": {}
    }, 
    {
      "execution_count": null, 
      "cell_type": "code", 
      "source": [
        "anova_svc.fit(X, conditions)\ny_pred = anova_svc.predict(X)"
      ], 
      "outputs": [], 
      "metadata": {
        "collapsed": false
      }
    }, 
    {
      "source": [
        "Obtain prediction scores via cross validation\n-----------------------------------------------\n\n"
      ], 
      "cell_type": "markdown", 
      "metadata": {}
    }, 
    {
      "execution_count": null, 
      "cell_type": "code", 
      "source": [
        "from sklearn.cross_validation import LeaveOneLabelOut, cross_val_score\n\n# Define the cross-validation scheme used for validation.\n# Here we use a LeaveOneLabelOut cross-validation on the session label\n# which corresponds to a leave-one-session-out\ncv = LeaveOneLabelOut(session)\n\n# Compute the prediction accuracy for the different folds (i.e. session)\ncv_scores = cross_val_score(anova_svc, X, conditions)\n\n# Return the corresponding mean prediction accuracy\nclassification_accuracy = cv_scores.mean()\n\n# Print the results\nprint(\"Classification accuracy: %.4f / Chance level: %f\" %\n      (classification_accuracy, 1. / len(np.unique(conditions))))\n# Classification accuracy: 0.8009 / Chance level: 0.5000"
      ], 
      "outputs": [], 
      "metadata": {
        "collapsed": false
      }
    }, 
    {
      "source": [
        "Visualize the results\n----------------------\nLook at the SVC's discriminating weights\n\n"
      ], 
      "cell_type": "markdown", 
      "metadata": {}
    }, 
    {
      "execution_count": null, 
      "cell_type": "code", 
      "source": [
        "coef = svc.coef_\n# reverse feature selection\ncoef = feature_selection.inverse_transform(coef)\n# reverse masking\nweight_img = masker.inverse_transform(coef)\n\n\n# Use the mean image as a background to avoid relying on anatomical data\nfrom nilearn import image\nmean_img = image.mean_img(func_filename)\n\n# Create the figure\nfrom nilearn.plotting import plot_stat_map, show\nplot_stat_map(weight_img, mean_img, title='SVM weights')\n\n# Saving the results as a Nifti file may also be important\nweight_img.to_filename('haxby_face_vs_house.nii')\n\n\nshow()"
      ], 
      "outputs": [], 
      "metadata": {
        "collapsed": false
      }
    }
  ], 
  "metadata": {
    "kernelspec": {
      "display_name": "Python 2", 
      "name": "python2", 
      "language": "python"
    }, 
    "language_info": {
      "mimetype": "text/x-python", 
      "nbconvert_exporter": "python", 
      "name": "python", 
      "file_extension": ".py", 
      "version": "2.7.13", 
      "pygments_lexer": "ipython2", 
      "codemirror_mode": {
        "version": 2, 
        "name": "ipython"
      }
    }
  }
}