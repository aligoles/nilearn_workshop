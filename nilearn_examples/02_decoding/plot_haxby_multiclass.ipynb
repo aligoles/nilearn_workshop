{
  "nbformat_minor": 0, 
  "nbformat": 4, 
  "cells": [
    {
      "execution_count": null, 
      "cell_type": "code", 
      "source": [
        "%matplotlib inline"
      ], 
      "outputs": [], 
      "metadata": {
        "collapsed": false
      }
    }, 
    {
      "source": [
        "\nThe haxby dataset: different multi-class strategies\n=======================================================\n\nWe compare one vs all and one vs one multi-class strategies: the overall\ncross-validated accuracy and the confusion matrix.\n\n\n"
      ], 
      "cell_type": "markdown", 
      "metadata": {}
    }, 
    {
      "source": [
        "Load the Haxby data dataset\n----------------------------\n\n"
      ], 
      "cell_type": "markdown", 
      "metadata": {}
    }, 
    {
      "execution_count": null, 
      "cell_type": "code", 
      "source": [
        "from nilearn import datasets\nimport numpy as np\n# By default 2nd subject from haxby datasets will be fetched.\nhaxby_dataset = datasets.fetch_haxby()\n\n# Print basic information on the dataset\nprint('Mask nifti images are located at: %s' % haxby_dataset.mask)\nprint('Functional nifti images are located at: %s' % haxby_dataset.func[0])\n\nfunc_filename = haxby_dataset.func[0]\nmask_filename = haxby_dataset.mask\n\n# Load the behavioral data that we will predict\nlabels = np.recfromcsv(haxby_dataset.session_target[0], delimiter=\" \")\ny = labels['labels']\nsession = labels['chunks']\n\n# Remove the rest condition, it is not very interesting\nnon_rest = y != b'rest'\ny = y[non_rest]\n\n# Get the labels of the numerical conditions represented by the vector y\nunique_conditions, order = np.unique(y, return_index=True)\n# Sort the conditions by the order of appearance\nunique_conditions = unique_conditions[np.argsort(order)]"
      ], 
      "outputs": [], 
      "metadata": {
        "collapsed": false
      }
    }, 
    {
      "source": [
        "Prepare the fMRI data\n----------------------\n\n"
      ], 
      "cell_type": "markdown", 
      "metadata": {}
    }, 
    {
      "execution_count": null, 
      "cell_type": "code", 
      "source": [
        "from nilearn.input_data import NiftiMasker\n# For decoding, standardizing is often very important\nnifti_masker = NiftiMasker(mask_img=mask_filename, standardize=True,\n                           sessions=session, smoothing_fwhm=4,\n                           memory=\"nilearn_cache\", memory_level=1)\nX = nifti_masker.fit_transform(func_filename)\n\n# Remove the \"rest\" condition\nX = X[non_rest]\nsession = session[non_rest]"
      ], 
      "outputs": [], 
      "metadata": {
        "collapsed": false
      }
    }, 
    {
      "source": [
        "Build the decoders, using scikit-learn\n----------------------------------------\nHere we use a Support Vector Classification, with a linear kernel,\nand a simple feature selection step\n\n"
      ], 
      "cell_type": "markdown", 
      "metadata": {}
    }, 
    {
      "execution_count": null, 
      "cell_type": "code", 
      "source": [
        "from sklearn.svm import SVC\nfrom sklearn.feature_selection import SelectKBest, f_classif\nfrom sklearn.multiclass import OneVsOneClassifier, OneVsRestClassifier\nfrom sklearn.pipeline import Pipeline\n\nsvc_ovo = OneVsOneClassifier(Pipeline([\n    ('anova', SelectKBest(f_classif, k=500)),\n    ('svc', SVC(kernel='linear'))\n]))\n\nsvc_ova = OneVsRestClassifier(Pipeline([\n    ('anova', SelectKBest(f_classif, k=500)),\n    ('svc', SVC(kernel='linear'))\n]))"
      ], 
      "outputs": [], 
      "metadata": {
        "collapsed": false
      }
    }, 
    {
      "source": [
        "Now we compute cross-validation scores\n----------------------------------------\n\n"
      ], 
      "cell_type": "markdown", 
      "metadata": {}
    }, 
    {
      "execution_count": null, 
      "cell_type": "code", 
      "source": [
        "from sklearn.cross_validation import cross_val_score\n\ncv_scores_ovo = cross_val_score(svc_ovo, X, y, cv=5, verbose=1)\n\ncv_scores_ova = cross_val_score(svc_ova, X, y, cv=5, verbose=1)\n\nprint('OvO:', cv_scores_ovo.mean())\nprint('OvA:', cv_scores_ova.mean())"
      ], 
      "outputs": [], 
      "metadata": {
        "collapsed": false
      }
    }, 
    {
      "source": [
        "Plot barplots of the prediction scores\n----------------------------------------\n\n"
      ], 
      "cell_type": "markdown", 
      "metadata": {}
    }, 
    {
      "execution_count": null, 
      "cell_type": "code", 
      "source": [
        "from matplotlib import pyplot as plt\nplt.figure(figsize=(4, 3))\nplt.boxplot([cv_scores_ova, cv_scores_ovo])\nplt.xticks([1, 2], ['One vs All', 'One vs One'])\nplt.title('Prediction: accuracy score')"
      ], 
      "outputs": [], 
      "metadata": {
        "collapsed": false
      }
    }, 
    {
      "source": [
        "Plot a confusion matrix\n------------------------\nWe fit on the the first 10 sessions and plot a confusion matrix on the\nlast 2 sessions\n\n"
      ], 
      "cell_type": "markdown", 
      "metadata": {}
    }, 
    {
      "execution_count": null, 
      "cell_type": "code", 
      "source": [
        "from sklearn.metrics import confusion_matrix\n\nsvc_ovo.fit(X[session < 10], y[session < 10])\ny_pred_ovo = svc_ovo.predict(X[session >= 10])\n\nplt.matshow(confusion_matrix(y_pred_ovo, y[session >= 10]))\nplt.title('Confusion matrix: One vs One')\nplt.xticks(np.arange(len(unique_conditions)), unique_conditions)\nplt.yticks(np.arange(len(unique_conditions)), unique_conditions)\n\nsvc_ova.fit(X[session < 10], y[session < 10])\ny_pred_ova = svc_ova.predict(X[session >= 10])\n\nplt.matshow(confusion_matrix(y_pred_ova, y[session >= 10]))\nplt.title('Confusion matrix: One vs All')\nplt.xticks(np.arange(len(unique_conditions)), unique_conditions)\nplt.yticks(np.arange(len(unique_conditions)), unique_conditions)\n\nplt.show()"
      ], 
      "outputs": [], 
      "metadata": {
        "collapsed": false
      }
    }
  ], 
  "metadata": {
    "kernelspec": {
      "display_name": "Python 2", 
      "name": "python2", 
      "language": "python"
    }, 
    "language_info": {
      "mimetype": "text/x-python", 
      "nbconvert_exporter": "python", 
      "name": "python", 
      "file_extension": ".py", 
      "version": "2.7.13", 
      "pygments_lexer": "ipython2", 
      "codemirror_mode": {
        "version": 2, 
        "name": "ipython"
      }
    }
  }
}