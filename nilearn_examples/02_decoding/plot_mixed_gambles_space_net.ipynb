{
  "nbformat_minor": 0, 
  "nbformat": 4, 
  "cells": [
    {
      "execution_count": null, 
      "cell_type": "code", 
      "source": [
        "%matplotlib inline"
      ], 
      "outputs": [], 
      "metadata": {
        "collapsed": false
      }
    }, 
    {
      "source": [
        "\nSpaceNet on Jimura et al \"mixed gambles\" dataset.\n==================================================\n\nThe segmenting power of SpaceNet is quite visible here.\n\nSee also the SpaceNet documentation: `space_net`.\n\n"
      ], 
      "cell_type": "markdown", 
      "metadata": {}
    }, 
    {
      "execution_count": null, 
      "cell_type": "code", 
      "source": [
        "# author: DOHMATOB Elvis Dopgima,\n#         GRAMFORT Alexandre"
      ], 
      "outputs": [], 
      "metadata": {
        "collapsed": false
      }
    }, 
    {
      "source": [
        "Load the data from the Jimura mixed-gamble experiment\n------------------------------------------------------\n\n"
      ], 
      "cell_type": "markdown", 
      "metadata": {}
    }, 
    {
      "execution_count": null, 
      "cell_type": "code", 
      "source": [
        "from nilearn.datasets import fetch_mixed_gambles\ndata = fetch_mixed_gambles(n_subjects=16)\n\nzmap_filenames = data.zmaps\nbehavioral_target = data.gain\nmask_filename = data.mask_img"
      ], 
      "outputs": [], 
      "metadata": {
        "collapsed": false
      }
    }, 
    {
      "source": [
        "Fit TV-L1\n----------\nHere we're using the regressor object given that the task is to predict a\ncontinuous variable, the gain of the gamble.\n\n"
      ], 
      "cell_type": "markdown", 
      "metadata": {}
    }, 
    {
      "execution_count": null, 
      "cell_type": "code", 
      "source": [
        "from nilearn.decoding import SpaceNetRegressor\ndecoder = SpaceNetRegressor(mask=mask_filename, penalty=\"tv-l1\",\n                            eps=1e-1,  # prefer large alphas\n                            memory=\"nilearn_cache\")\n\ndecoder.fit(zmap_filenames, behavioral_target)\n\n# Visualize TV-L1 weights\n# ------------------------\nfrom nilearn.plotting import plot_stat_map, show\nplot_stat_map(decoder.coef_img_, title=\"tv-l1\", display_mode=\"yz\",\n              cut_coords=[20, -2])"
      ], 
      "outputs": [], 
      "metadata": {
        "collapsed": false
      }
    }, 
    {
      "source": [
        "Fit Graph-Net\n--------------\n\n"
      ], 
      "cell_type": "markdown", 
      "metadata": {}
    }, 
    {
      "execution_count": null, 
      "cell_type": "code", 
      "source": [
        "decoder = SpaceNetRegressor(mask=mask_filename, penalty=\"graph-net\",\n                            eps=1e-1,  # prefer large alphas\n                            memory=\"nilearn_cache\")\ndecoder.fit(zmap_filenames, behavioral_target)\n\n# Visualize Graph-Net weights\n# ----------------------------\nplot_stat_map(decoder.coef_img_, title=\"graph-net\", display_mode=\"yz\",\n              cut_coords=[20, -2])\n\nshow()"
      ], 
      "outputs": [], 
      "metadata": {
        "collapsed": false
      }
    }
  ], 
  "metadata": {
    "kernelspec": {
      "display_name": "Python 2", 
      "name": "python2", 
      "language": "python"
    }, 
    "language_info": {
      "mimetype": "text/x-python", 
      "nbconvert_exporter": "python", 
      "name": "python", 
      "file_extension": ".py", 
      "version": "2.7.13", 
      "pygments_lexer": "ipython2", 
      "codemirror_mode": {
        "version": 2, 
        "name": "ipython"
      }
    }
  }
}