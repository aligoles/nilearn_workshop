{
  "nbformat_minor": 0, 
  "nbformat": 4, 
  "cells": [
    {
      "execution_count": null, 
      "cell_type": "code", 
      "source": [
        "%matplotlib inline"
      ], 
      "outputs": [], 
      "metadata": {
        "collapsed": false
      }
    }, 
    {
      "source": [
        "\nVoxel-Based Morphometry on Oasis dataset with Space-Net prior\n=============================================================\n\nPredicting age from gray-matter concentration maps from OASIS\ndataset. Note that age is a continuous variable, we use the regressor\nhere, and not the classification object.\n\nSee also the SpaceNet documentation: `space_net`.\n\n\n"
      ], 
      "cell_type": "markdown", 
      "metadata": {}
    }, 
    {
      "execution_count": null, 
      "cell_type": "code", 
      "source": [
        "# Authors: DOHMATOB Elvis\n#          FRITSCH Virgile"
      ], 
      "outputs": [], 
      "metadata": {
        "collapsed": false
      }
    }, 
    {
      "source": [
        "Load the Oasis VBM dataset\n---------------------------\n\n"
      ], 
      "cell_type": "markdown", 
      "metadata": {}
    }, 
    {
      "execution_count": null, 
      "cell_type": "code", 
      "source": [
        "import numpy as np\nfrom nilearn import datasets\nn_subjects = 200  # increase this number if you have more RAM on your box\ndataset_files = datasets.fetch_oasis_vbm(n_subjects=n_subjects)\nage = dataset_files.ext_vars['age'].astype(float)\nage = np.array(age)\ngm_imgs = np.array(dataset_files.gray_matter_maps)\n\n\n# Split data into training set and test set\nfrom sklearn.utils import check_random_state\nfrom sklearn.cross_validation import train_test_split\nrng = check_random_state(42)\ngm_imgs_train, gm_imgs_test, age_train, age_test = train_test_split(\n    gm_imgs, age, train_size=.6, random_state=rng)\n\n# Sort test data for better visualization (trend, etc.)\nperm = np.argsort(age_test)[::-1]\nage_test = age_test[perm]\ngm_imgs_test = gm_imgs_test[perm]"
      ], 
      "outputs": [], 
      "metadata": {
        "collapsed": false
      }
    }, 
    {
      "source": [
        "Fit the SpaceNet and predict with it\n-------------------------------------\n\n"
      ], 
      "cell_type": "markdown", 
      "metadata": {}
    }, 
    {
      "execution_count": null, 
      "cell_type": "code", 
      "source": [
        "from nilearn.decoding import SpaceNetRegressor\n\n# To save time (because these are anat images with many voxels), we include\n# only the 5-percent voxels most correlated with the age variable to fit.\n# Also, we set memory_level=2 so that more of the intermediate computations\n# are cached. Also, you may pass and n_jobs=<some_high_value> to the\n# SpaceNetRegressor class, to take advantage of a multi-core system.\n#\n# Also, here we use a graph-net penalty but more beautiful results can be\n# obtained using the TV-l1 penalty, at the expense of longer runtimes.\ndecoder = SpaceNetRegressor(memory=\"nilearn_cache\", penalty=\"graph-net\",\n                            screening_percentile=5., memory_level=2)\ndecoder.fit(gm_imgs_train, age_train)  # fit\ncoef_img = decoder.coef_img_\ny_pred = decoder.predict(gm_imgs_test).ravel()  # predict\nmse = np.mean(np.abs(age_test - y_pred))\nprint('Mean square error (MSE) on the predicted age: %.2f' % mse)"
      ], 
      "outputs": [], 
      "metadata": {
        "collapsed": false
      }
    }, 
    {
      "source": [
        "Visualize the resulting maps\n\n"
      ], 
      "cell_type": "markdown", 
      "metadata": {}
    }, 
    {
      "execution_count": null, 
      "cell_type": "code", 
      "source": [
        "from nilearn.plotting import plot_stat_map\n# weights map\nbackground_img = gm_imgs[0]\nplot_stat_map(coef_img, background_img, title=\"graph-net weights\",\n              display_mode=\"z\", cut_coords=1)"
      ], 
      "outputs": [], 
      "metadata": {
        "collapsed": false
      }
    }, 
    {
      "source": [
        "Visualize the quality of predictions\n-------------------------------------\n\n"
      ], 
      "cell_type": "markdown", 
      "metadata": {}
    }, 
    {
      "execution_count": null, 
      "cell_type": "code", 
      "source": [
        "import matplotlib.pyplot as plt\nplt.figure()\nplt.suptitle(\"graph-net: Mean Absolute Error %.2f years\" % mse)\nlinewidth = 3\nax1 = plt.subplot('211')\nax1.plot(age_test, label=\"True age\", linewidth=linewidth)\nax1.plot(y_pred, '--', c=\"g\", label=\"Predicted age\", linewidth=linewidth)\nax1.set_ylabel(\"age\")\nplt.legend(loc=\"best\")\nax2 = plt.subplot(\"212\")\nax2.plot(age_test - y_pred, label=\"True age - predicted age\",\n         linewidth=linewidth)\nax2.set_xlabel(\"subject\")\nplt.legend(loc=\"best\")\n\nplt.show()"
      ], 
      "outputs": [], 
      "metadata": {
        "collapsed": false
      }
    }
  ], 
  "metadata": {
    "kernelspec": {
      "display_name": "Python 2", 
      "name": "python2", 
      "language": "python"
    }, 
    "language_info": {
      "mimetype": "text/x-python", 
      "nbconvert_exporter": "python", 
      "name": "python", 
      "file_extension": ".py", 
      "version": "2.7.13", 
      "pygments_lexer": "ipython2", 
      "codemirror_mode": {
        "version": 2, 
        "name": "ipython"
      }
    }
  }
}