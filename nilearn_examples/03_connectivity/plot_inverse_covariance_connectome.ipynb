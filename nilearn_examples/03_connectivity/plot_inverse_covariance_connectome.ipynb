{
  "nbformat_minor": 0, 
  "nbformat": 4, 
  "cells": [
    {
      "execution_count": null, 
      "cell_type": "code", 
      "source": [
        "%matplotlib inline"
      ], 
      "outputs": [], 
      "metadata": {
        "collapsed": false
      }
    }, 
    {
      "source": [
        "\nComputing a connectome with sparse inverse covariance\n=======================================================\n\nThis example constructs a functional connectome using the sparse inverse\ncovariance.\n\nWe use the `MSDL atlas\n<https://team.inria.fr/parietal/research/spatial_patterns/spatial-patterns-in-resting-state/>`_\nof functional regions in rest, and the\n:class:`nilearn.input_data.NiftiMapsMasker` to extract time series.\n\nNote that the inverse covariance (or precision) contains values that can\nbe linked to *negated* partial correlations, so we negated it for\ndisplay.\n\nAs the MSDL atlas comes with (x, y, z) MNI coordinates for the different\nregions, we can visualize the matrix as a graph of interaction in a\nbrain. To avoid having too dense a graph, we represent only the 20% edges\nwith the highest values.\n\n\n"
      ], 
      "cell_type": "markdown", 
      "metadata": {}
    }, 
    {
      "source": [
        "Retrieve the atlas and the data\n--------------------------------\n\n"
      ], 
      "cell_type": "markdown", 
      "metadata": {}
    }, 
    {
      "execution_count": null, 
      "cell_type": "code", 
      "source": [
        "from nilearn import datasets\natlas = datasets.fetch_atlas_msdl()\n# Loading atlas image stored in 'maps'\natlas_filename = atlas['maps']\n# Loading atlas data stored in 'labels'\nlabels = atlas['labels']\n\n# Loading the functional datasets\ndata = datasets.fetch_adhd(n_subjects=1)\n\n# print basic information on the dataset\nprint('First subject functional nifti images (4D) are at: %s' %\n      data.func[0])  # 4D data"
      ], 
      "outputs": [], 
      "metadata": {
        "collapsed": false
      }
    }, 
    {
      "source": [
        "Extract time series\n--------------------\n\n"
      ], 
      "cell_type": "markdown", 
      "metadata": {}
    }, 
    {
      "execution_count": null, 
      "cell_type": "code", 
      "source": [
        "from nilearn.input_data import NiftiMapsMasker\nmasker = NiftiMapsMasker(maps_img=atlas_filename, standardize=True,\n                         memory='nilearn_cache', verbose=5)\n\ntime_series = masker.fit_transform(data.func[0],\n                                   confounds=data.confounds)"
      ], 
      "outputs": [], 
      "metadata": {
        "collapsed": false
      }
    }, 
    {
      "source": [
        "Compute the sparse inverse covariance\n--------------------------------------\n\n"
      ], 
      "cell_type": "markdown", 
      "metadata": {}
    }, 
    {
      "execution_count": null, 
      "cell_type": "code", 
      "source": [
        "from sklearn.covariance import GraphLassoCV\nestimator = GraphLassoCV()\n\nestimator.fit(time_series)"
      ], 
      "outputs": [], 
      "metadata": {
        "collapsed": false
      }
    }, 
    {
      "source": [
        "Display the connectome matrix\n------------------------------\n\n"
      ], 
      "cell_type": "markdown", 
      "metadata": {}
    }, 
    {
      "execution_count": null, 
      "cell_type": "code", 
      "source": [
        "from matplotlib import pyplot as plt\n\n# Display the covariance\nplt.figure(figsize=(10, 10))\n\n# The covariance can be found at estimator.covariance_\nplt.imshow(estimator.covariance_, interpolation=\"nearest\",\n           vmax=1, vmin=-1, cmap=plt.cm.RdBu_r)\n# And display the labels\nx_ticks = plt.xticks(range(len(labels)), labels, rotation=90)\ny_ticks = plt.yticks(range(len(labels)), labels)\nplt.title('Covariance')"
      ], 
      "outputs": [], 
      "metadata": {
        "collapsed": false
      }
    }, 
    {
      "source": [
        "And now display the corresponding graph\n----------------------------------------\n\n"
      ], 
      "cell_type": "markdown", 
      "metadata": {}
    }, 
    {
      "execution_count": null, 
      "cell_type": "code", 
      "source": [
        "from nilearn import plotting\ncoords = atlas.region_coords\n\nplotting.plot_connectome(estimator.covariance_, coords,\n                         title='Covariance')"
      ], 
      "outputs": [], 
      "metadata": {
        "collapsed": false
      }
    }, 
    {
      "source": [
        "Display the sparse inverse covariance\n--------------------------------------\nwe negate it to get partial correlations\n\n"
      ], 
      "cell_type": "markdown", 
      "metadata": {}
    }, 
    {
      "execution_count": null, 
      "cell_type": "code", 
      "source": [
        "plt.figure(figsize=(10, 10))\nplt.imshow(-estimator.precision_, interpolation=\"nearest\",\n           vmax=1, vmin=-1, cmap=plt.cm.RdBu_r)\n# And display the labels\nx_ticks = plt.xticks(range(len(labels)), labels, rotation=90)\ny_ticks = plt.yticks(range(len(labels)), labels)\nplt.title('Sparse inverse covariance')"
      ], 
      "outputs": [], 
      "metadata": {
        "collapsed": false
      }
    }, 
    {
      "source": [
        "And now display the corresponding graph\n----------------------------------------\n\n"
      ], 
      "cell_type": "markdown", 
      "metadata": {}
    }, 
    {
      "execution_count": null, 
      "cell_type": "code", 
      "source": [
        "plotting.plot_connectome(-estimator.precision_, coords,\n                         title='Sparse inverse covariance')\n\nplotting.show()"
      ], 
      "outputs": [], 
      "metadata": {
        "collapsed": false
      }
    }
  ], 
  "metadata": {
    "kernelspec": {
      "display_name": "Python 2", 
      "name": "python2", 
      "language": "python"
    }, 
    "language_info": {
      "mimetype": "text/x-python", 
      "nbconvert_exporter": "python", 
      "name": "python", 
      "file_extension": ".py", 
      "version": "2.7.13", 
      "pygments_lexer": "ipython2", 
      "codemirror_mode": {
        "version": 2, 
        "name": "ipython"
      }
    }
  }
}