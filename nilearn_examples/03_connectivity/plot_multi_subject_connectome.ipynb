{
  "nbformat_minor": 0, 
  "nbformat": 4, 
  "cells": [
    {
      "execution_count": null, 
      "cell_type": "code", 
      "source": [
        "%matplotlib inline"
      ], 
      "outputs": [], 
      "metadata": {
        "collapsed": false
      }
    }, 
    {
      "source": [
        "\nGroup Sparse inverse covariance for multi-subject connectome\n=============================================================\n\nThis example shows how to estimate a connectome on a group of subjects\nusing the group sparse inverse covariance estimate.\n\n\n"
      ], 
      "cell_type": "markdown", 
      "metadata": {}
    }, 
    {
      "execution_count": null, 
      "cell_type": "code", 
      "source": [
        "import matplotlib.pyplot as plt\nimport numpy as np\n\nfrom nilearn import plotting\n\n\nn_subjects = 4  # subjects to consider for group-sparse covariance (max: 40)\n\n\ndef plot_matrices(cov, prec, title):\n    \"\"\"Plot covariance and precision matrices, for a given processing. \"\"\"\n\n    prec = prec.copy()  # avoid side effects\n\n    # Put zeros on the diagonal, for graph clarity.\n    size = prec.shape[0]\n    prec[list(range(size)), list(range(size))] = 0\n    span = max(abs(prec.min()), abs(prec.max()))\n\n    # Display covariance matrix\n    plt.figure()\n    plt.imshow(cov, interpolation=\"nearest\",\n               vmin=-1, vmax=1, cmap=plotting.cm.bwr)\n    plt.colorbar()\n    plt.title(\"%s / covariance\" % title)\n\n    # Display precision matrix\n    plt.figure()\n    plt.imshow(prec, interpolation=\"nearest\",\n               vmin=-span, vmax=span,\n               cmap=plotting.cm.bwr)\n    plt.colorbar()\n    plt.title(\"%s / precision\" % title)"
      ], 
      "outputs": [], 
      "metadata": {
        "collapsed": false
      }
    }, 
    {
      "source": [
        "Fetching datasets\n------------------\n\n"
      ], 
      "cell_type": "markdown", 
      "metadata": {}
    }, 
    {
      "execution_count": null, 
      "cell_type": "code", 
      "source": [
        "from nilearn import datasets\nmsdl_atlas_dataset = datasets.fetch_atlas_msdl()\nadhd_dataset = datasets.fetch_adhd(n_subjects=n_subjects)\n\n# print basic information on the dataset\nprint('First subject functional nifti image (4D) is at: %s' %\n      adhd_dataset.func[0])  # 4D data"
      ], 
      "outputs": [], 
      "metadata": {
        "collapsed": false
      }
    }, 
    {
      "source": [
        "Extracting region signals\n--------------------------\n\n"
      ], 
      "cell_type": "markdown", 
      "metadata": {}
    }, 
    {
      "execution_count": null, 
      "cell_type": "code", 
      "source": [
        "from nilearn import image\nfrom nilearn import input_data\n\n# A \"memory\" to avoid recomputation\nfrom sklearn.externals.joblib import Memory\nmem = Memory('nilearn_cache')\n\nmasker = input_data.NiftiMapsMasker(\n    msdl_atlas_dataset.maps, resampling_target=\"maps\", detrend=True,\n    low_pass=None, high_pass=0.01, t_r=2.5, standardize=True,\n    memory='nilearn_cache', memory_level=1, verbose=2)\nmasker.fit()\n\nsubject_time_series = []\nfunc_filenames = adhd_dataset.func\nconfound_filenames = adhd_dataset.confounds\nfor func_filename, confound_filename in zip(func_filenames,\n                                            confound_filenames):\n    print(\"Processing file %s\" % func_filename)\n\n    # Computing some confounds\n    hv_confounds = mem.cache(image.high_variance_confounds)(\n        func_filename)\n\n    region_ts = masker.transform(func_filename,\n                                 confounds=[hv_confounds, confound_filename])\n    subject_time_series.append(region_ts)"
      ], 
      "outputs": [], 
      "metadata": {
        "collapsed": false
      }
    }, 
    {
      "source": [
        "Computing group-sparse precision matrices\n------------------------------------------\n\n"
      ], 
      "cell_type": "markdown", 
      "metadata": {}
    }, 
    {
      "execution_count": null, 
      "cell_type": "code", 
      "source": [
        "from nilearn.connectome import GroupSparseCovarianceCV\ngsc = GroupSparseCovarianceCV(verbose=2)\ngsc.fit(subject_time_series)\n\nfrom sklearn import covariance\ngl = covariance.GraphLassoCV(verbose=2)\ngl.fit(np.concatenate(subject_time_series))"
      ], 
      "outputs": [], 
      "metadata": {
        "collapsed": false
      }
    }, 
    {
      "source": [
        "Displaying results\n-------------------\n\n"
      ], 
      "cell_type": "markdown", 
      "metadata": {}
    }, 
    {
      "execution_count": null, 
      "cell_type": "code", 
      "source": [
        "atlas_imgs = image.iter_img(msdl_atlas_dataset.maps)\natlas_region_coords = [plotting.find_xyz_cut_coords(img) for img in atlas_imgs]\n\nplotting.plot_connectome(gl.covariance_,\n                         atlas_region_coords, edge_threshold='90%',\n                         title=\"Covariance\",\n                         display_mode=\"lzr\")\nplotting.plot_connectome(-gl.precision_, atlas_region_coords,\n                         edge_threshold='90%',\n                         title=\"Sparse inverse covariance (GraphLasso)\",\n                         display_mode=\"lzr\",\n                         edge_vmax=.5, edge_vmin=-.5)\nplot_matrices(gl.covariance_, gl.precision_, \"GraphLasso\")\n\ntitle = \"GroupSparseCovariance\"\nplotting.plot_connectome(-gsc.precisions_[..., 0],\n                         atlas_region_coords, edge_threshold='90%',\n                         title=title,\n                         display_mode=\"lzr\",\n                         edge_vmax=.5, edge_vmin=-.5)\nplot_matrices(gsc.covariances_[..., 0],\n              gsc.precisions_[..., 0], title)\n\nplotting.show()"
      ], 
      "outputs": [], 
      "metadata": {
        "collapsed": false
      }
    }
  ], 
  "metadata": {
    "kernelspec": {
      "display_name": "Python 2", 
      "name": "python2", 
      "language": "python"
    }, 
    "language_info": {
      "mimetype": "text/x-python", 
      "nbconvert_exporter": "python", 
      "name": "python", 
      "file_extension": ".py", 
      "version": "2.7.13", 
      "pygments_lexer": "ipython2", 
      "codemirror_mode": {
        "version": 2, 
        "name": "ipython"
      }
    }
  }
}