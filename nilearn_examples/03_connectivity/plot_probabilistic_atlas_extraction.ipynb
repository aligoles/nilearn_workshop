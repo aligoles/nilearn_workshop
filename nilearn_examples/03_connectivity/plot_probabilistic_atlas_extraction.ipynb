{
  "nbformat_minor": 0, 
  "nbformat": 4, 
  "cells": [
    {
      "execution_count": null, 
      "cell_type": "code", 
      "source": [
        "%matplotlib inline"
      ], 
      "outputs": [], 
      "metadata": {
        "collapsed": false
      }
    }, 
    {
      "source": [
        "\nExtracting signals of a probabilistic atlas of rest functional regions\n========================================================================\n\nThis example extracts the signal on regions defined via a probabilistic\natlas, to construct a functional connectome.\n\nWe use the `MSDL atlas\n<https://team.inria.fr/parietal/research/spatial_patterns/spatial-patterns-in-resting-state/>`_\nof functional regions in rest.\n\nThe key to extract signals is to use the\n:class:`nilearn.input_data.NiftiMapsMasker` that can transform nifti\nobjects to time series using a probabilistic atlas.\n\nAs the MSDL atlas comes with (x, y, z) MNI coordinates for the different\nregions, we can visualize the matrix as a graph of interaction in a\nbrain. To avoid having too dense a graph, we represent only the 20% edges\nwith the highest values.\n\n\n"
      ], 
      "cell_type": "markdown", 
      "metadata": {}
    }, 
    {
      "source": [
        "Retrieve the atlas and the data\n--------------------------------\n\n"
      ], 
      "cell_type": "markdown", 
      "metadata": {}
    }, 
    {
      "execution_count": null, 
      "cell_type": "code", 
      "source": [
        "from nilearn import datasets\natlas = datasets.fetch_atlas_msdl()\n# Loading atlas image stored in 'maps'\natlas_filename = atlas['maps']\n# Loading atlas data stored in 'labels'\nlabels = atlas['labels']\n\n# Load the functional datasets\ndata = datasets.fetch_adhd(n_subjects=1)\n\nprint('First subject resting-state nifti image (4D) is located at: %s' %\n      data.func[0])"
      ], 
      "outputs": [], 
      "metadata": {
        "collapsed": false
      }
    }, 
    {
      "source": [
        "Extract the time series\n------------------------\n\n"
      ], 
      "cell_type": "markdown", 
      "metadata": {}
    }, 
    {
      "execution_count": null, 
      "cell_type": "code", 
      "source": [
        "from nilearn.input_data import NiftiMapsMasker\nmasker = NiftiMapsMasker(maps_img=atlas_filename, standardize=True,\n                         memory='nilearn_cache', verbose=5)\n\ntime_series = masker.fit_transform(data.func[0],\n                                   confounds=data.confounds)"
      ], 
      "outputs": [], 
      "metadata": {
        "collapsed": false
      }
    }, 
    {
      "source": [
        "`time_series` is now a 2D matrix, of shape (number of time points x\nnumber of regions)\n\n"
      ], 
      "cell_type": "markdown", 
      "metadata": {}
    }, 
    {
      "execution_count": null, 
      "cell_type": "code", 
      "source": [
        "print(time_series.shape)"
      ], 
      "outputs": [], 
      "metadata": {
        "collapsed": false
      }
    }, 
    {
      "source": [
        "Build and display a correlation matrix\n---------------------------------------\n\n"
      ], 
      "cell_type": "markdown", 
      "metadata": {}
    }, 
    {
      "execution_count": null, 
      "cell_type": "code", 
      "source": [
        "from nilearn.connectome import ConnectivityMeasure\ncorrelation_measure = ConnectivityMeasure(kind='correlation')\ncorrelation_matrix = correlation_measure.fit_transform([time_series])[0]\n\n# Display the correlation matrix\nimport numpy as np\nfrom matplotlib import pyplot as plt\nplt.figure(figsize=(10, 10))\n# Mask out the major diagonal\nnp.fill_diagonal(correlation_matrix, 0)\nplt.imshow(correlation_matrix, interpolation=\"nearest\", cmap=\"RdBu_r\",\n           vmax=0.8, vmin=-0.8)\nplt.colorbar()\n# And display the labels\nx_ticks = plt.xticks(range(len(labels)), labels, rotation=90)\ny_ticks = plt.yticks(range(len(labels)), labels)"
      ], 
      "outputs": [], 
      "metadata": {
        "collapsed": false
      }
    }, 
    {
      "source": [
        "And now display the corresponding graph\n----------------------------------------\n\n"
      ], 
      "cell_type": "markdown", 
      "metadata": {}
    }, 
    {
      "execution_count": null, 
      "cell_type": "code", 
      "source": [
        "from nilearn import plotting\ncoords = atlas.region_coords\n\n# We threshold to keep only the 20% of edges with the highest value\n# because the graph is very dense\nplotting.plot_connectome(correlation_matrix, coords,\n                         edge_threshold=\"80%\", colorbar=True)\n\nplotting.show()"
      ], 
      "outputs": [], 
      "metadata": {
        "collapsed": false
      }
    }
  ], 
  "metadata": {
    "kernelspec": {
      "display_name": "Python 2", 
      "name": "python2", 
      "language": "python"
    }, 
    "language_info": {
      "mimetype": "text/x-python", 
      "nbconvert_exporter": "python", 
      "name": "python", 
      "file_extension": ".py", 
      "version": "2.7.13", 
      "pygments_lexer": "ipython2", 
      "codemirror_mode": {
        "version": 2, 
        "name": "ipython"
      }
    }
  }
}