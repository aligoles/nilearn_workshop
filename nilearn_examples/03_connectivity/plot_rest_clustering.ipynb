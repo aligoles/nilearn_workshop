{
  "nbformat_minor": 0, 
  "nbformat": 4, 
  "cells": [
    {
      "execution_count": null, 
      "cell_type": "code", 
      "source": [
        "%matplotlib inline"
      ], 
      "outputs": [], 
      "metadata": {
        "collapsed": false
      }
    }, 
    {
      "source": [
        "\nWard clustering to learn a brain parcellation from rest fMRI\n====================================================================\n\nWe use spatially-constrained Ward-clustering to create a set of\nparcels. These parcels are particularly interesting for creating a\n'compressed' representation of the data, replacing the data in the fMRI\nimages by mean on the parcellation.\n\nThis parcellation may be useful in a supervised learning, see for\ninstance: `A supervised clustering approach for fMRI-based inference of\nbrain states <https://hal.inria.fr/inria-00589201>`_, Michel et al,\nPattern Recognition 2011.\n\nThe big picture discussion corresponding to this example can be found\nin the documentation section `parcellating_brain`.\n\n"
      ], 
      "cell_type": "markdown", 
      "metadata": {}
    }, 
    {
      "source": [
        "Download a rest dataset and turn it to a data matrix\n-----------------------------------------------------\n\nWe we download one subject of the ADHD dataset from Internet\n\n"
      ], 
      "cell_type": "markdown", 
      "metadata": {}
    }, 
    {
      "execution_count": null, 
      "cell_type": "code", 
      "source": [
        "from nilearn import datasets\ndataset = datasets.fetch_adhd(n_subjects=1)\n\n# print basic information on the dataset\nprint('First subject functional nifti image (4D) is at: %s' %\n      dataset.func[0])  # 4D data"
      ], 
      "outputs": [], 
      "metadata": {
        "collapsed": false
      }
    }, 
    {
      "source": [
        "Transform nifti files to a data matrix with the NiftiMasker\n\n"
      ], 
      "cell_type": "markdown", 
      "metadata": {}
    }, 
    {
      "execution_count": null, 
      "cell_type": "code", 
      "source": [
        "from nilearn import input_data\n\n# The NiftiMasker will extract the data on a mask. We do not have a\n# mask, hence we need to compute one.\n#\n# This is resting-state data: the background has not been removed yet,\n# thus we need to use mask_strategy='epi' to compute the mask from the\n# EPI images\nnifti_masker = input_data.NiftiMasker(memory='nilearn_cache',\n                                      mask_strategy='epi', memory_level=1,\n                                      standardize=False)\n\nfunc_filename = dataset.func[0]\n# The fit_transform call computes the mask and extracts the time-series\n# from the files:\nfmri_masked = nifti_masker.fit_transform(func_filename)\n\n# We can retrieve the numpy array of the mask\nmask = nifti_masker.mask_img_.get_data().astype(bool)"
      ], 
      "outputs": [], 
      "metadata": {
        "collapsed": false
      }
    }, 
    {
      "source": [
        "Perform Ward clustering\n-----------------------\n\nWe use spatially-constrained Ward clustering. For this, we need to\ncompute from the mask a matrix giving the voxel-to-voxel connectivity\n\n"
      ], 
      "cell_type": "markdown", 
      "metadata": {}
    }, 
    {
      "execution_count": null, 
      "cell_type": "code", 
      "source": [
        "# Compute connectivity matrix: which voxel is connected to which\nfrom sklearn.feature_extraction import image\nshape = mask.shape\nconnectivity = image.grid_to_graph(n_x=shape[0], n_y=shape[1],\n                                   n_z=shape[2], mask=mask)"
      ], 
      "outputs": [], 
      "metadata": {
        "collapsed": false
      }
    }, 
    {
      "source": [
        "Then we use FeatureAgglomeration from scikit-learn. Indeed, the voxels\nare the features of the data matrix.\n\nIn addition, we use caching. As a result, the clustering doesn't have\nto be recomputed later.\n\n"
      ], 
      "cell_type": "markdown", 
      "metadata": {}
    }, 
    {
      "execution_count": null, 
      "cell_type": "code", 
      "source": [
        "# Computing the ward for the first time, this is long...\nfrom sklearn.cluster import FeatureAgglomeration\n# If you have scikit-learn older than 0.14, you need to import\n# WardAgglomeration instead of FeatureAgglomeration\nimport time\nstart = time.time()\nward = FeatureAgglomeration(n_clusters=1000, connectivity=connectivity,\n                            linkage='ward', memory='nilearn_cache')\nward.fit(fmri_masked)\nprint(\"Ward agglomeration 1000 clusters: %.2fs\" % (time.time() - start))\n\n# Compute the ward with more clusters, should be faster as we are using\n# the caching mechanism\nstart = time.time()\nward = FeatureAgglomeration(n_clusters=2000, connectivity=connectivity,\n                            linkage='ward', memory='nilearn_cache')\nward.fit(fmri_masked)\nprint(\"Ward agglomeration 2000 clusters: %.2fs\" % (time.time() - start))"
      ], 
      "outputs": [], 
      "metadata": {
        "collapsed": false
      }
    }, 
    {
      "source": [
        "Visualize results\n------------------\n\nFirst we display the labels of the clustering in the brain.\n\nTo visualize results, we need to transform the clustering's labels back\nto a neuroimaging volume. For this, we use the NiftiMasker's\ninverse_transform method.\n\n"
      ], 
      "cell_type": "markdown", 
      "metadata": {}
    }, 
    {
      "execution_count": null, 
      "cell_type": "code", 
      "source": [
        "from nilearn.plotting import plot_roi, plot_epi, show\n\n# Unmask the labels\n\n# Avoid 0 label\nlabels = ward.labels_ + 1\nlabels_img = nifti_masker.inverse_transform(labels)\n\nfrom nilearn.image import mean_img\nmean_func_img = mean_img(func_filename)\n\n\nfirst_plot = plot_roi(labels_img, mean_func_img, title=\"Ward parcellation\",\n                      display_mode='xz')\n\n# common cut coordinates for all plots\ncut_coords = first_plot.cut_coords"
      ], 
      "outputs": [], 
      "metadata": {
        "collapsed": false
      }
    }, 
    {
      "source": [
        "labels_img is a Nifti1Image object, it can be saved to file with the\nfollowing code:\n\n"
      ], 
      "cell_type": "markdown", 
      "metadata": {}
    }, 
    {
      "execution_count": null, 
      "cell_type": "code", 
      "source": [
        "labels_img.to_filename('parcellation.nii')"
      ], 
      "outputs": [], 
      "metadata": {
        "collapsed": false
      }
    }, 
    {
      "source": [
        "Second, we illustrate the effect that the clustering has on the\nsignal. We show the original data, and the approximation provided by\nthe clustering by averaging the signal on each parcel.\n\nAs you can see below, this approximation is very good, although there\nare only 2000 parcels, instead of the original 60000 voxels\n\n"
      ], 
      "cell_type": "markdown", 
      "metadata": {}
    }, 
    {
      "execution_count": null, 
      "cell_type": "code", 
      "source": [
        "# Display the original data\nplot_epi(nifti_masker.inverse_transform(fmri_masked[0]),\n         cut_coords=cut_coords,\n         title='Original (%i voxels)' % fmri_masked.shape[1],\n         vmax=fmri_masked.max(), vmin=fmri_masked.min(),\n         display_mode='xz')\n\n# A reduced data can be create by taking the parcel-level average:\n# Note that, as many objects in the scikit-learn, the ward object exposes\n# a transform method that modifies input features. Here it reduces their\n# dimension\nfmri_reduced = ward.transform(fmri_masked)\n\n# Display the corresponding data compressed using the parcellation\nfmri_compressed = ward.inverse_transform(fmri_reduced)\ncompressed_img = nifti_masker.inverse_transform(fmri_compressed[0])\n\nplot_epi(compressed_img, cut_coords=cut_coords,\n         title='Compressed representation (2000 parcels)',\n         vmax=fmri_masked.max(), vmin=fmri_masked.min(),\n         display_mode='xz')\n\nshow()"
      ], 
      "outputs": [], 
      "metadata": {
        "collapsed": false
      }
    }
  ], 
  "metadata": {
    "kernelspec": {
      "display_name": "Python 2", 
      "name": "python2", 
      "language": "python"
    }, 
    "language_info": {
      "mimetype": "text/x-python", 
      "nbconvert_exporter": "python", 
      "name": "python", 
      "file_extension": ".py", 
      "version": "2.7.13", 
      "pygments_lexer": "ipython2", 
      "codemirror_mode": {
        "version": 2, 
        "name": "ipython"
      }
    }
  }
}