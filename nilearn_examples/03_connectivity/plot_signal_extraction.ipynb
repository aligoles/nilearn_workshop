{
  "nbformat_minor": 0, 
  "nbformat": 4, 
  "cells": [
    {
      "execution_count": null, 
      "cell_type": "code", 
      "source": [
        "%matplotlib inline"
      ], 
      "outputs": [], 
      "metadata": {
        "collapsed": false
      }
    }, 
    {
      "source": [
        "\nExtracting signals from a brain parcellation\n============================================\n\nHere we show how to extract signals from a brain parcellation and compute\na correlation matrix.\n\nWe also show the importance of defining good confounds signals: the\nfirst correlation matrix is computed after regressing out simple\nconfounds signals: movement regressors, white matter and CSF signals, ...\nThe second one is without any confounds: all regions are connected to\neach other.\n\n\nOne reference that discusses the importance of confounds is `Varoquaux and\nCraddock, Learning and comparing functional connectomes across subjects,\nNeuroImage 2013\n<http://www.sciencedirect.com/science/article/pii/S1053811913003340>`_.\n\nThis is just a code example, see the `corresponding section in the\ndocumentation <parcellation_time_series>` for more.\n\n"
      ], 
      "cell_type": "markdown", 
      "metadata": {}
    }, 
    {
      "source": [
        "Retrieve the atlas and the data\n--------------------------------\n\n"
      ], 
      "cell_type": "markdown", 
      "metadata": {}
    }, 
    {
      "execution_count": null, 
      "cell_type": "code", 
      "source": [
        "from nilearn import datasets\n\ndataset = datasets.fetch_atlas_harvard_oxford('cort-maxprob-thr25-2mm')\natlas_filename = dataset.maps\nlabels = dataset.labels\n\nprint('Atlas ROIs are located in nifti image (4D) at: %s' %\n      atlas_filename)  # 4D data\n\n# One subject of resting-state data\ndata = datasets.fetch_adhd(n_subjects=1)\nfmri_filenames = data.func[0]"
      ], 
      "outputs": [], 
      "metadata": {
        "collapsed": false
      }
    }, 
    {
      "source": [
        "Extract signals on a parcellation defined by labels\n-----------------------------------------------------\nUsing the NiftiLabelsMasker\n\n"
      ], 
      "cell_type": "markdown", 
      "metadata": {}
    }, 
    {
      "execution_count": null, 
      "cell_type": "code", 
      "source": [
        "from nilearn.input_data import NiftiLabelsMasker\nmasker = NiftiLabelsMasker(labels_img=atlas_filename, standardize=True,\n                           memory='nilearn_cache', verbose=5)\n\n# Here we go from nifti files to the signal time series in a numpy\n# array. Note how we give confounds to be regressed out during signal\n# extraction\ntime_series = masker.fit_transform(fmri_filenames, confounds=data.confounds)"
      ], 
      "outputs": [], 
      "metadata": {
        "collapsed": false
      }
    }, 
    {
      "source": [
        "Compute and display a correlation matrix\n-----------------------------------------\n\n"
      ], 
      "cell_type": "markdown", 
      "metadata": {}
    }, 
    {
      "execution_count": null, 
      "cell_type": "code", 
      "source": [
        "from nilearn.connectome import ConnectivityMeasure\ncorrelation_measure = ConnectivityMeasure(kind='correlation')\ncorrelation_matrix = correlation_measure.fit_transform([time_series])[0]\n\n# Plot the correlation matrix\nimport numpy as np\nfrom matplotlib import pyplot as plt\nplt.figure(figsize=(10, 10))\n# Mask the main diagonal for visualization:\nnp.fill_diagonal(correlation_matrix, 0)\n\nplt.imshow(correlation_matrix, interpolation=\"nearest\", cmap=\"RdBu_r\",\n           vmax=0.8, vmin=-0.8)\n\n# Add labels and adjust margins\nx_ticks = plt.xticks(range(len(labels) - 1), labels[1:], rotation=90)\ny_ticks = plt.yticks(range(len(labels) - 1), labels[1:])\nplt.gca().yaxis.tick_right()\nplt.subplots_adjust(left=.01, bottom=.3, top=.99, right=.62)"
      ], 
      "outputs": [], 
      "metadata": {
        "collapsed": false
      }
    }, 
    {
      "source": [
        "Same thing without confounds, to stress the importance of confounds\n--------------------------------------------------------------------\n\n"
      ], 
      "cell_type": "markdown", 
      "metadata": {}
    }, 
    {
      "execution_count": null, 
      "cell_type": "code", 
      "source": [
        "time_series = masker.fit_transform(fmri_filenames)\n# Note how we did not specify confounds above. This is bad!\n\ncorrelation_matrix = correlation_measure.fit_transform([time_series])[0]\n\n# Mask the main diagonal for visualization:\nnp.fill_diagonal(correlation_matrix, 0)\n\nplt.figure(figsize=(10, 10))\nplt.imshow(correlation_matrix, interpolation=\"nearest\", cmap=\"RdBu_r\",\n           vmax=0.8, vmin=-0.8)\n\nx_ticks = plt.xticks(range(len(labels) - 1), labels[1:], rotation=90)\ny_ticks = plt.yticks(range(len(labels) - 1), labels[1:])\nplt.gca().yaxis.tick_right()\nplt.subplots_adjust(left=.01, bottom=.3, top=.99, right=.62)\nplt.suptitle('No confounds', size=27)\n\nplt.show()"
      ], 
      "outputs": [], 
      "metadata": {
        "collapsed": false
      }
    }
  ], 
  "metadata": {
    "kernelspec": {
      "display_name": "Python 2", 
      "name": "python2", 
      "language": "python"
    }, 
    "language_info": {
      "mimetype": "text/x-python", 
      "nbconvert_exporter": "python", 
      "name": "python", 
      "file_extension": ".py", 
      "version": "2.7.13", 
      "pygments_lexer": "ipython2", 
      "codemirror_mode": {
        "version": 2, 
        "name": "ipython"
      }
    }
  }
}