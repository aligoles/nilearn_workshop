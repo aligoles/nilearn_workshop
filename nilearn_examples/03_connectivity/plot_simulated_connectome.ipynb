{
  "nbformat_minor": 0, 
  "nbformat": 4, 
  "cells": [
    {
      "execution_count": null, 
      "cell_type": "code", 
      "source": [
        "%matplotlib inline"
      ], 
      "outputs": [], 
      "metadata": {
        "collapsed": false
      }
    }, 
    {
      "source": [
        "\nConnectivity structure estimation on simulated data\n===================================================\n\nThis example shows a comparison of graph lasso and group-sparse covariance\nestimation of connectivity structre for a synthetic dataset.\n\n\n"
      ], 
      "cell_type": "markdown", 
      "metadata": {}
    }, 
    {
      "execution_count": null, 
      "cell_type": "code", 
      "source": [
        "import matplotlib.pyplot as plt\n\n\ndef plot_matrix(m, ylabel=\"\"):\n    abs_max = abs(m).max()\n    plt.imshow(m, cmap=plt.cm.RdBu_r, interpolation=\"nearest\",\n               vmin=-abs_max, vmax=abs_max)\n\n\n# Generate synthetic data\nfrom nilearn._utils.testing import generate_group_sparse_gaussian_graphs\n\nn_subjects = 20  # number of subjects\nn_displayed = 3  # number of subjects displayed\nsubjects, precisions, topology = generate_group_sparse_gaussian_graphs(\n    n_subjects=n_subjects, n_features=10, min_n_samples=30, max_n_samples=50,\n    density=0.1)\n\nfig = plt.figure(figsize=(10, 7))\nplt.subplots_adjust(hspace=0.4)\nfor n in range(n_displayed):\n    plt.subplot(n_displayed, 4, 4 * n + 1)\n    plot_matrix(precisions[n])\n    if n == 0:\n        plt.title(\"ground truth\")\n    plt.ylabel(\"subject %d\" % n)\n\n\n# Run group-sparse covariance on all subjects\nfrom nilearn.connectome import GroupSparseCovarianceCV\ngsc = GroupSparseCovarianceCV(max_iter=50, verbose=1)\ngsc.fit(subjects)\n\nfor n in range(n_displayed):\n    plt.subplot(n_displayed, 4, 4 * n + 2)\n    plot_matrix(gsc.precisions_[..., n])\n    if n == 0:\n        plt.title(\"group-sparse\\n$\\\\alpha=%.2f$\" % gsc.alpha_)\n\n\n# Fit one graph lasso per subject\nfrom sklearn.covariance import GraphLassoCV\ngl = GraphLassoCV(verbose=1)\n\nfor n, subject in enumerate(subjects[:n_displayed]):\n    gl.fit(subject)\n\n    plt.subplot(n_displayed, 4, 4 * n + 3)\n    plot_matrix(gl.precision_)\n    if n == 0:\n        plt.title(\"graph lasso\")\n    plt.ylabel(\"$\\\\alpha=%.2f$\" % gl.alpha_)\n\n\n# Fit one graph lasso for all subjects at once\nimport numpy as np\ngl.fit(np.concatenate(subjects))\n\nplt.subplot(n_displayed, 4, 4)\nplot_matrix(gl.precision_)\nplt.title(\"graph lasso, all subjects\\n$\\\\alpha=%.2f$\" % gl.alpha_)\n\nplt.show()"
      ], 
      "outputs": [], 
      "metadata": {
        "collapsed": false
      }
    }
  ], 
  "metadata": {
    "kernelspec": {
      "display_name": "Python 2", 
      "name": "python2", 
      "language": "python"
    }, 
    "language_info": {
      "mimetype": "text/x-python", 
      "nbconvert_exporter": "python", 
      "name": "python", 
      "file_extension": ".py", 
      "version": "2.7.13", 
      "pygments_lexer": "ipython2", 
      "codemirror_mode": {
        "version": 2, 
        "name": "ipython"
      }
    }
  }
}