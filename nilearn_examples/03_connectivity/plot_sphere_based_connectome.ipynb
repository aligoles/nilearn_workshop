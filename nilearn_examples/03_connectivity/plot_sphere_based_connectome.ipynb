{
  "nbformat_minor": 0, 
  "nbformat": 4, 
  "cells": [
    {
      "execution_count": null, 
      "cell_type": "code", 
      "source": [
        "%matplotlib inline"
      ], 
      "outputs": [], 
      "metadata": {
        "collapsed": false
      }
    }, 
    {
      "source": [
        "\nExtract signals on spheres from an atlas and plot a connectome\n==============================================================\n\nThis example shows how to extract signals from spherical regions\ncentered on coordinates from Power-264 atlas [1] and Dosenbach-160 [2].\nWe estimate connectome using **sparse inverse covariance**, to recover\nthe functional brain **networks structure**.\n\n**References**\n\n[1] Power, Jonathan D., et al. \"Functional network organization of the\nhuman brain.\" Neuron 72.4 (2011): 665-678.\n\n[2] Dosenbach N.U., Nardos B., et al. \"Prediction of individual brain maturity\nusing fMRI.\", 2010, Science 329, 1358-1361.\n\n\n"
      ], 
      "cell_type": "markdown", 
      "metadata": {}
    }, 
    {
      "source": [
        "Load fMRI data and Power atlas\n------------------------------\n\nWe are going to use a single subject from the ADHD dataset.\n\n"
      ], 
      "cell_type": "markdown", 
      "metadata": {}
    }, 
    {
      "execution_count": null, 
      "cell_type": "code", 
      "source": [
        "from nilearn import datasets\n\nadhd = datasets.fetch_adhd(n_subjects=1)"
      ], 
      "outputs": [], 
      "metadata": {
        "collapsed": false
      }
    }, 
    {
      "source": [
        "We store the paths to its functional image and the confounds file.\n\n"
      ], 
      "cell_type": "markdown", 
      "metadata": {}
    }, 
    {
      "execution_count": null, 
      "cell_type": "code", 
      "source": [
        "fmri_filename = adhd.func[0]\nconfounds_filename = adhd.confounds[0]\nprint('Functional image is {0},\\nconfounds are {1}.'.format(fmri_filename,\n      confounds_filename))"
      ], 
      "outputs": [], 
      "metadata": {
        "collapsed": false
      }
    }, 
    {
      "source": [
        "We fetch the coordinates of Power atlas.\n\n"
      ], 
      "cell_type": "markdown", 
      "metadata": {}
    }, 
    {
      "execution_count": null, 
      "cell_type": "code", 
      "source": [
        "power = datasets.fetch_coords_power_2011()\nprint('Power atlas comes with {0}.'.format(power.keys()))"
      ], 
      "outputs": [], 
      "metadata": {
        "collapsed": false
      }
    }, 
    {
      "source": [
        "Compute within spheres averaged time-series\n-------------------------------------------\n\nWe can compute the mean signal within **spheres** of a fixed radius around\na sequence of (x, y, z) coordinates with the object\n:class:`nilearn.input_data.NiftiSpheresMasker`.\nSo we collect the regions coordinates in a numpy array\n\n"
      ], 
      "cell_type": "markdown", 
      "metadata": {}
    }, 
    {
      "execution_count": null, 
      "cell_type": "code", 
      "source": [
        "import numpy as np\n\ncoords = np.vstack((power.rois['x'], power.rois['y'], power.rois['z'])).T\n\nprint('Stacked power coordinates in array of shape {0}.'.format(coords.shape))"
      ], 
      "outputs": [], 
      "metadata": {
        "collapsed": false
      }
    }, 
    {
      "source": [
        "and define spheres masker, with small enough radius to avoid regions overlap.\n\n"
      ], 
      "cell_type": "markdown", 
      "metadata": {}
    }, 
    {
      "execution_count": null, 
      "cell_type": "code", 
      "source": [
        "from nilearn import  input_data\n\nspheres_masker = input_data.NiftiSpheresMasker(\n    seeds=coords, smoothing_fwhm=4, radius=5.,\n    detrend=True, standardize=True, low_pass=0.1, high_pass=0.01, t_r=2.5)"
      ], 
      "outputs": [], 
      "metadata": {
        "collapsed": false
      }
    }, 
    {
      "source": [
        "Voxel-wise time-series within each sphere are averaged. The resulting signal\nis then prepared by the masker object: Detrended, cleaned from counfounds,\nband-pass filtered and **standardized to 1 variance**.\n\n"
      ], 
      "cell_type": "markdown", 
      "metadata": {}
    }, 
    {
      "execution_count": null, 
      "cell_type": "code", 
      "source": [
        "timeseries = spheres_masker.fit_transform(fmri_filename,\n                                          confounds=confounds_filename)"
      ], 
      "outputs": [], 
      "metadata": {
        "collapsed": false
      }
    }, 
    {
      "source": [
        "Estimate correlations\n---------------------\n\nAll starts with the estimation of the signals **covariance** matrix. Here the\nnumber of ROIs exceeds the number of samples,\n\n"
      ], 
      "cell_type": "markdown", 
      "metadata": {}
    }, 
    {
      "execution_count": null, 
      "cell_type": "code", 
      "source": [
        "print('time series has {0} samples'.format(timeseries.shape[0]))"
      ], 
      "outputs": [], 
      "metadata": {
        "collapsed": false
      }
    }, 
    {
      "source": [
        "in which situation the graphical lasso **sparse inverse covariance**\nestimator captures well the covariance **structure**.\n\n"
      ], 
      "cell_type": "markdown", 
      "metadata": {}
    }, 
    {
      "execution_count": null, 
      "cell_type": "code", 
      "source": [
        "from sklearn.covariance import GraphLassoCV\n\ncovariance_estimator = GraphLassoCV(verbose=1)"
      ], 
      "outputs": [], 
      "metadata": {
        "collapsed": false
      }
    }, 
    {
      "source": [
        "We just fit our regions signals into the `GraphLassoCV` object\n\n"
      ], 
      "cell_type": "markdown", 
      "metadata": {}
    }, 
    {
      "execution_count": null, 
      "cell_type": "code", 
      "source": [
        "covariance_estimator.fit(timeseries)"
      ], 
      "outputs": [], 
      "metadata": {
        "collapsed": false
      }
    }, 
    {
      "source": [
        "and get the ROI-to-ROI covariance matrix.\n\n"
      ], 
      "cell_type": "markdown", 
      "metadata": {}
    }, 
    {
      "execution_count": null, 
      "cell_type": "code", 
      "source": [
        "matrix = covariance_estimator.covariance_\nprint('Covariance matrix has shape {0}.'.format(matrix.shape))"
      ], 
      "outputs": [], 
      "metadata": {
        "collapsed": false
      }
    }, 
    {
      "source": [
        "Plot matrix and graph\n---------------------\n\nWe use `matplotlib` plotting functions to visualize our correlation matrix\nand display the graph of connections with `nilearn.plotting.plot_connectome`.\n\n"
      ], 
      "cell_type": "markdown", 
      "metadata": {}
    }, 
    {
      "execution_count": null, 
      "cell_type": "code", 
      "source": [
        "import matplotlib.pyplot as plt\nfrom nilearn import plotting\n\nplt.imshow(matrix, vmin=-1., vmax=1., cmap='RdBu_r', interpolation='nearest')\nplt.colorbar()\nplt.title('Power correlation matrix')\n\n# Tweak edge_threshold to keep only the strongest connections.\nplotting.plot_connectome(matrix, coords, title='Power correlation graph',\n                         edge_threshold='99.8%', node_size=20, colorbar=True)"
      ], 
      "outputs": [], 
      "metadata": {
        "collapsed": false
      }
    }, 
    {
      "source": [
        "Note the 1. on the matrix diagonal: These are the signals variances, set to\n1. by the `spheres_masker`. Hence the covariance of the signal is a\ncorrelation matrix\n\n"
      ], 
      "cell_type": "markdown", 
      "metadata": {}
    }, 
    {
      "source": [
        "Connectome extracted from Dosenbach's atlas\n-------------------------------------------\n\nWe repeat the same steps for Dosenbach's atlas.\n\n"
      ], 
      "cell_type": "markdown", 
      "metadata": {}
    }, 
    {
      "execution_count": null, 
      "cell_type": "code", 
      "source": [
        "dosenbach = datasets.fetch_coords_dosenbach_2010()\n\ncoords = np.vstack((\n    dosenbach.rois['x'],\n    dosenbach.rois['y'],\n    dosenbach.rois['z'],\n)).T\n\nspheres_masker = input_data.NiftiSpheresMasker(\n    seeds=coords, smoothing_fwhm=4, radius=4.5,\n    detrend=True, standardize=True, low_pass=0.1, high_pass=0.01, t_r=2.5)\n\ntimeseries = spheres_masker.fit_transform(fmri_filename,\n                                          confounds=confounds_filename)\n\ncovariance_estimator = GraphLassoCV()\ncovariance_estimator.fit(timeseries)\nmatrix = covariance_estimator.covariance_\n\nplt.figure()\nplt.imshow(matrix, vmin=-1., vmax=1., cmap='RdBu_r', interpolation='nearest')\nplt.colorbar()\nplt.title('Dosenbach correlation matrix')\n\nplotting.plot_connectome(matrix, coords, title='Dosenbach correlation graph',\n                         edge_threshold=\"99.7%\", node_size=20, colorbar=True)"
      ], 
      "outputs": [], 
      "metadata": {
        "collapsed": false
      }
    }, 
    {
      "source": [
        "We can easily identify the Dosenbach's networks from the matrix blocks.\n\n"
      ], 
      "cell_type": "markdown", 
      "metadata": {}
    }, 
    {
      "execution_count": null, 
      "cell_type": "code", 
      "source": [
        "print('Dosenbach networks names are {0}'.format(np.unique(dosenbach.networks)))\n\nplotting.show()"
      ], 
      "outputs": [], 
      "metadata": {
        "collapsed": false
      }
    }
  ], 
  "metadata": {
    "kernelspec": {
      "display_name": "Python 2", 
      "name": "python2", 
      "language": "python"
    }, 
    "language_info": {
      "mimetype": "text/x-python", 
      "nbconvert_exporter": "python", 
      "name": "python", 
      "file_extension": ".py", 
      "version": "2.7.13", 
      "pygments_lexer": "ipython2", 
      "codemirror_mode": {
        "version": 2, 
        "name": "ipython"
      }
    }
  }
}