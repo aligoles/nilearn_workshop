{
  "nbformat_minor": 0, 
  "nbformat": 4, 
  "cells": [
    {
      "execution_count": null, 
      "cell_type": "code", 
      "source": [
        "%matplotlib inline"
      ], 
      "outputs": [], 
      "metadata": {
        "collapsed": false
      }
    }, 
    {
      "source": [
        "\nRegions Extraction of Default Mode Networks using Smith Atlas\n=============================================================\n\nThis simple example shows how to extract regions from Smith atlas\nresting state networks.\n\nIn particular, we show how Default Mode Network regions are extracted\nusing :class:`nilearn.regions.RegionExtractor` from regions module\n\n"
      ], 
      "cell_type": "markdown", 
      "metadata": {}
    }, 
    {
      "source": [
        "Fetching the smith ICA 10 RSN by importing datasets utilities\n\n"
      ], 
      "cell_type": "markdown", 
      "metadata": {}
    }, 
    {
      "execution_count": null, 
      "cell_type": "code", 
      "source": [
        "from nilearn import datasets\n\nsmith_atlas = datasets.fetch_atlas_smith_2009()\natlas_networks = smith_atlas.rsn10"
      ], 
      "outputs": [], 
      "metadata": {
        "collapsed": false
      }
    }, 
    {
      "source": [
        "Import region extractor to extract atlas networks\n\n"
      ], 
      "cell_type": "markdown", 
      "metadata": {}
    }, 
    {
      "execution_count": null, 
      "cell_type": "code", 
      "source": [
        "from nilearn.regions import RegionExtractor\n\n# min_region_size in voxel volume mm^3\nextraction = RegionExtractor(atlas_networks, min_region_size=800,\n                             threshold=98, thresholding_strategy='percentile')\n\n# Just call fit() to execute region extraction procedure\nextraction.fit()\nregions_img = extraction.regions_img_"
      ], 
      "outputs": [], 
      "metadata": {
        "collapsed": false
      }
    }, 
    {
      "source": [
        "Visualization\nShow region extraction results by importing image & plotting utilities\n\n"
      ], 
      "cell_type": "markdown", 
      "metadata": {}
    }, 
    {
      "execution_count": null, 
      "cell_type": "code", 
      "source": [
        "from nilearn import plotting\nfrom nilearn.image import index_img\nfrom nilearn.plotting import find_xyz_cut_coords\n\n# Showing region extraction results using 4D maps visualization tool\nplotting.plot_prob_atlas(regions_img, display_mode='z', cut_coords=1,\n                         view_type='contours', title=\"Regions extracted.\")\n\n# To reduce the complexity, we choose to display all the regions\n# extracted from network 3\nimport numpy as np\n\nDMN_network = index_img(atlas_networks, 3)\nplotting.plot_stat_map(DMN_network, display_mode='z', cut_coords=1,\n                       title='Network 3', colorbar=False)\n\nregions_indices_network3 = np.where(np.array(extraction.index_) == 3)\nfor index in regions_indices_network3[0]:\n    cur_img = index_img(extraction.regions_img_, index)\n    coords = find_xyz_cut_coords(cur_img)\n    plotting.plot_stat_map(cur_img, display_mode='z', cut_coords=coords[2:3],\n                           title=\"Blob of network3\", colorbar=False)\n\nplotting.show()"
      ], 
      "outputs": [], 
      "metadata": {
        "collapsed": false
      }
    }
  ], 
  "metadata": {
    "kernelspec": {
      "display_name": "Python 2", 
      "name": "python2", 
      "language": "python"
    }, 
    "language_info": {
      "mimetype": "text/x-python", 
      "nbconvert_exporter": "python", 
      "name": "python", 
      "file_extension": ".py", 
      "version": "2.7.13", 
      "pygments_lexer": "ipython2", 
      "codemirror_mode": {
        "version": 2, 
        "name": "ipython"
      }
    }
  }
}