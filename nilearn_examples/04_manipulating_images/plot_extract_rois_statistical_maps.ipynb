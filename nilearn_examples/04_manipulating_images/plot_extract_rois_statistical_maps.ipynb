{
  "nbformat_minor": 0, 
  "nbformat": 4, 
  "cells": [
    {
      "execution_count": null, 
      "cell_type": "code", 
      "source": [
        "%matplotlib inline"
      ], 
      "outputs": [], 
      "metadata": {
        "collapsed": false
      }
    }, 
    {
      "source": [
        "\nRegion Extraction using a t-statistical map (3D)\n================================================\n\nThis example shows how to extract regions or separate the regions\nfrom a statistical map.\n\nWe use localizer t-statistic maps from :func:`nilearn.datasets.fetch_localizer_contrasts`\nas an input image.\n\nThe idea is to threshold an image to get foreground objects using a\nfunction :func:`nilearn.image.threshold_img` and extract objects using a function\n:func:`nilearn.regions.connected_regions`.\n\n"
      ], 
      "cell_type": "markdown", 
      "metadata": {}
    }, 
    {
      "source": [
        "Fetching t-statistic image of localizer constrasts by loading from datasets\nutilities\n\n"
      ], 
      "cell_type": "markdown", 
      "metadata": {}
    }, 
    {
      "execution_count": null, 
      "cell_type": "code", 
      "source": [
        "from nilearn import datasets\n\nn_subjects = 3\nlocalizer_path = datasets.fetch_localizer_contrasts(\n    ['calculation (auditory cue)'], n_subjects=n_subjects, get_tmaps=True)\ntmap_filename = localizer_path.tmaps[0]"
      ], 
      "outputs": [], 
      "metadata": {
        "collapsed": false
      }
    }, 
    {
      "source": [
        "Threshold the t-statistic image by importing threshold function\n\n"
      ], 
      "cell_type": "markdown", 
      "metadata": {}
    }, 
    {
      "execution_count": null, 
      "cell_type": "code", 
      "source": [
        "from nilearn.image import threshold_img\n\n# Two types of strategies can be used from this threshold function\n# Type 1: strategy used will be based on scoreatpercentile\nthreshold_percentile_img = threshold_img(tmap_filename, threshold='97%')\n\n\n# Type 2: threshold strategy used will be based on image intensity\n# Here, threshold value should be within the limits i.e. less than max value.\nthreshold_value_img = threshold_img(tmap_filename, threshold=4.)"
      ], 
      "outputs": [], 
      "metadata": {
        "collapsed": false
      }
    }, 
    {
      "source": [
        "Visualization\nShowing thresholding results by importing plotting modules and its utilities\n\n"
      ], 
      "cell_type": "markdown", 
      "metadata": {}
    }, 
    {
      "execution_count": null, 
      "cell_type": "code", 
      "source": [
        "from nilearn import plotting\n\n# Showing percentile threshold image\nplotting.plot_stat_map(threshold_percentile_img, display_mode='z', cut_coords=5,\n                       title='Threshold image with string percentile', colorbar=False)\n\n# Showing intensity threshold image\nplotting.plot_stat_map(threshold_value_img, display_mode='z', cut_coords=5,\n                       title='Threshold image with intensity value', colorbar=False)"
      ], 
      "outputs": [], 
      "metadata": {
        "collapsed": false
      }
    }, 
    {
      "source": [
        "Extracting the regions by importing connected regions function\n\n"
      ], 
      "cell_type": "markdown", 
      "metadata": {}
    }, 
    {
      "execution_count": null, 
      "cell_type": "code", 
      "source": [
        "from nilearn.regions import connected_regions\n\nregions_percentile_img, index = connected_regions(threshold_percentile_img,\n                                                  min_region_size=1500)\n\nregions_value_img, index = connected_regions(threshold_value_img,\n                                             min_region_size=1500)"
      ], 
      "outputs": [], 
      "metadata": {
        "collapsed": false
      }
    }, 
    {
      "source": [
        "Visualizing region extraction results\n\n"
      ], 
      "cell_type": "markdown", 
      "metadata": {}
    }, 
    {
      "execution_count": null, 
      "cell_type": "code", 
      "source": [
        "title = (\"ROIs using percentile thresholding. \"\n         \"\\n Each ROI in same color is an extracted region\")\nplotting.plot_prob_atlas(regions_percentile_img, anat_img=tmap_filename,\n                         view_type='contours', display_mode='z',\n                         cut_coords=5, title=title)\ntitle = (\"ROIs using image intensity thresholding. \"\n         \"\\n Each ROI in same color is an extracted region\")\nplotting.plot_prob_atlas(regions_value_img, anat_img=tmap_filename,\n                         view_type='contours', display_mode='z',\n                         cut_coords=5, title=title)\nplotting.show()"
      ], 
      "outputs": [], 
      "metadata": {
        "collapsed": false
      }
    }
  ], 
  "metadata": {
    "kernelspec": {
      "display_name": "Python 2", 
      "name": "python2", 
      "language": "python"
    }, 
    "language_info": {
      "mimetype": "text/x-python", 
      "nbconvert_exporter": "python", 
      "name": "python", 
      "file_extension": ".py", 
      "version": "2.7.13", 
      "pygments_lexer": "ipython2", 
      "codemirror_mode": {
        "version": 2, 
        "name": "ipython"
      }
    }
  }
}