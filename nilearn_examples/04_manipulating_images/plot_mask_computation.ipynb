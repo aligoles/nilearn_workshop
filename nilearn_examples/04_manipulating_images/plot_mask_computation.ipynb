{
  "nbformat_minor": 0, 
  "nbformat": 4, 
  "cells": [
    {
      "execution_count": null, 
      "cell_type": "code", 
      "source": [
        "%matplotlib inline"
      ], 
      "outputs": [], 
      "metadata": {
        "collapsed": false
      }
    }, 
    {
      "source": [
        "\nUnderstanding NiftiMasker and mask computation\n==================================================\n\nIn this example, the Nifti masker is used to automatically compute a mask.\n\nFor data that has already been masked, the default strategy works out of\nthe box.\n\nHowever, for raw EPI, as in resting-state time series, we need to use the\n'epi' strategy of the NiftiMasker.\n\nIn addition, we show here how to tweak the different parameters of the\nunderlying mask extraction routine\n:func:`nilearn.masking.compute_epi_mask`.\n\n\n"
      ], 
      "cell_type": "markdown", 
      "metadata": {}
    }, 
    {
      "source": [
        "From already masked data\n\n"
      ], 
      "cell_type": "markdown", 
      "metadata": {}
    }, 
    {
      "execution_count": null, 
      "cell_type": "code", 
      "source": [
        "from nilearn.input_data import NiftiMasker\nimport nilearn.image as image\nfrom nilearn.plotting import plot_roi, show\n\n# Load Miyawaki dataset\nfrom nilearn import datasets\nmiyawaki_dataset = datasets.fetch_miyawaki2008()\n\n# print basic information on the dataset\nprint('First functional nifti image (4D) is located at: %s' %\n      miyawaki_dataset.func[0])  # 4D data\n\nmiyawaki_filename = miyawaki_dataset.func[0]\nmiyawaki_mean_img = image.mean_img(miyawaki_filename)\n\n# This time, we can use the NiftiMasker without changing the default mask\n# strategy, as the data has already been masked, and thus lies on a\n# homogeneous background\n\nmasker = NiftiMasker()\nmasker.fit(miyawaki_filename)\n\nplot_roi(masker.mask_img_, miyawaki_mean_img,\n         title=\"Mask from already masked data\")"
      ], 
      "outputs": [], 
      "metadata": {
        "collapsed": false
      }
    }, 
    {
      "source": [
        "From raw EPI data\n\n"
      ], 
      "cell_type": "markdown", 
      "metadata": {}
    }, 
    {
      "execution_count": null, 
      "cell_type": "code", 
      "source": [
        "# Load ADHD resting-state dataset\ndataset = datasets.fetch_adhd(n_subjects=1)\nepi_filename = dataset.func[0]\n\n# Restrict to 100 frames to speed up computation\nfrom nilearn.image import index_img\nepi_img = index_img(epi_filename, slice(0, 100))\n\n# To display the background\nmean_img = image.mean_img(epi_img)\n\n\n# Simple mask extraction from EPI images\n# We need to specify an 'epi' mask_strategy, as this is raw EPI data\nmasker = NiftiMasker(mask_strategy='epi')\nmasker.fit(epi_img)\nplot_roi(masker.mask_img_, mean_img, title='EPI automatic mask')\n\n# Generate mask with strong opening\nmasker = NiftiMasker(mask_strategy='epi', mask_args=dict(opening=10))\nmasker.fit(epi_img)\nplot_roi(masker.mask_img_, mean_img, title='EPI Mask with strong opening')\n\n# Generate mask with a high lower cutoff\nmasker = NiftiMasker(mask_strategy='epi',\n                     mask_args=dict(upper_cutoff=.9, lower_cutoff=.8,\n                                    opening=False))\nmasker.fit(epi_img)\nplot_roi(masker.mask_img_, mean_img,\n         title='EPI Mask: high lower_cutoff')"
      ], 
      "outputs": [], 
      "metadata": {
        "collapsed": false
      }
    }, 
    {
      "source": [
        "Extract time series\n\n"
      ], 
      "cell_type": "markdown", 
      "metadata": {}
    }, 
    {
      "execution_count": null, 
      "cell_type": "code", 
      "source": [
        "# trended vs detrended\ntrended = NiftiMasker(mask_strategy='epi')\ndetrended = NiftiMasker(mask_strategy='epi', detrend=True)\ntrended_data = trended.fit_transform(epi_img)\ndetrended_data = detrended.fit_transform(epi_img)\n\n# The timeseries are numpy arrays, so we can manipulate them with numpy\nimport numpy as np\n\nprint(\"Trended: mean %.2f, std %.2f\" %\n      (np.mean(trended_data), np.std(trended_data)))\nprint(\"Detrended: mean %.2f, std %.2f\" %\n      (np.mean(detrended_data), np.std(detrended_data)))\n\nshow()"
      ], 
      "outputs": [], 
      "metadata": {
        "collapsed": false
      }
    }
  ], 
  "metadata": {
    "kernelspec": {
      "display_name": "Python 2", 
      "name": "python2", 
      "language": "python"
    }, 
    "language_info": {
      "mimetype": "text/x-python", 
      "nbconvert_exporter": "python", 
      "name": "python", 
      "file_extension": ".py", 
      "version": "2.7.13", 
      "pygments_lexer": "ipython2", 
      "codemirror_mode": {
        "version": 2, 
        "name": "ipython"
      }
    }
  }
}