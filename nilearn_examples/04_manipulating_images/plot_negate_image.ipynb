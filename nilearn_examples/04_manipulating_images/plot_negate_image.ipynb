{
  "nbformat_minor": 0, 
  "nbformat": 4, 
  "cells": [
    {
      "execution_count": null, 
      "cell_type": "code", 
      "source": [
        "%matplotlib inline"
      ], 
      "outputs": [], 
      "metadata": {
        "collapsed": false
      }
    }, 
    {
      "source": [
        "\nNegating an image with math_img\n===============================\n\nThe goal of this example is to illustrate the use of the function\n:func:`nilearn.image.math_img` on T-maps.\nWe compute a negative image by multiplying its voxel values with -1.\n\n"
      ], 
      "cell_type": "markdown", 
      "metadata": {}
    }, 
    {
      "execution_count": null, 
      "cell_type": "code", 
      "source": [
        "from nilearn import datasets, plotting, image"
      ], 
      "outputs": [], 
      "metadata": {
        "collapsed": false
      }
    }, 
    {
      "source": [
        "Retrieve the data: the localizer dataset with contrast maps.\n\n"
      ], 
      "cell_type": "markdown", 
      "metadata": {}
    }, 
    {
      "execution_count": null, 
      "cell_type": "code", 
      "source": [
        "localizer_dataset = datasets.fetch_localizer_contrasts(\n    [\"left vs right button press\"],\n    n_subjects=2,\n    get_anats=True,\n    get_tmaps=True)\nlocalizer_anat_filename = localizer_dataset.anats[1]\nlocalizer_tmap_filename = localizer_dataset.tmaps[1]"
      ], 
      "outputs": [], 
      "metadata": {
        "collapsed": false
      }
    }, 
    {
      "source": [
        "Multiply voxel values by -1.\n\n"
      ], 
      "cell_type": "markdown", 
      "metadata": {}
    }, 
    {
      "execution_count": null, 
      "cell_type": "code", 
      "source": [
        "negative_stat_img = image.math_img(\"-img\", img=localizer_tmap_filename)\n\nplotting.plot_stat_map(localizer_tmap_filename,\n                       bg_img=localizer_anat_filename,\n                       cut_coords=(36, -27, 66),\n                       threshold=3, title=\"t-map, dim=-.5\",\n                       dim=-.5)\nplotting.plot_stat_map(negative_stat_img,\n                       bg_img=localizer_anat_filename,\n                       cut_coords=(36, -27, 66),\n                       threshold=3, title=\"Negative t-map, dim=-.5\",\n                       dim=-.5)\nplotting.show()"
      ], 
      "outputs": [], 
      "metadata": {
        "collapsed": false
      }
    }
  ], 
  "metadata": {
    "kernelspec": {
      "display_name": "Python 2", 
      "name": "python2", 
      "language": "python"
    }, 
    "language_info": {
      "mimetype": "text/x-python", 
      "nbconvert_exporter": "python", 
      "name": "python", 
      "file_extension": ".py", 
      "version": "2.7.13", 
      "pygments_lexer": "ipython2", 
      "codemirror_mode": {
        "version": 2, 
        "name": "ipython"
      }
    }
  }
}