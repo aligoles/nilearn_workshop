{
  "nbformat_minor": 0, 
  "nbformat": 4, 
  "cells": [
    {
      "execution_count": null, 
      "cell_type": "code", 
      "source": [
        "%matplotlib inline"
      ], 
      "outputs": [], 
      "metadata": {
        "collapsed": false
      }
    }, 
    {
      "source": [
        "\nSimple example of NiftiMasker use\n==================================\n\nHere is a simple example of automatic mask computation using the nifti masker.\nThe mask is computed and visualized.\n\n"
      ], 
      "cell_type": "markdown", 
      "metadata": {}
    }, 
    {
      "source": [
        "Retrieve the NYU test-retest dataset\n\n"
      ], 
      "cell_type": "markdown", 
      "metadata": {}
    }, 
    {
      "execution_count": null, 
      "cell_type": "code", 
      "source": [
        "from nilearn import datasets\ndataset = datasets.fetch_adhd(n_subjects=1)\nfunc_filename = dataset.func[0]\n\n# print basic information on the dataset\nprint('First functional nifti image (4D) is at: %s' % func_filename)"
      ], 
      "outputs": [], 
      "metadata": {
        "collapsed": false
      }
    }, 
    {
      "source": [
        "Compute the mask\n\n"
      ], 
      "cell_type": "markdown", 
      "metadata": {}
    }, 
    {
      "execution_count": null, 
      "cell_type": "code", 
      "source": [
        "from nilearn.input_data import NiftiMasker\n\n# As this is raw resting-state EPI, the background is noisy and we cannot\n# rely on the 'background' masking strategy. We need to use the 'epi' one\nnifti_masker = NiftiMasker(standardize=True, mask_strategy='epi',\n                           memory=\"nilearn_cache\", memory_level=2,\n                           smoothing_fwhm=8)\nnifti_masker.fit(func_filename)\nmask_img = nifti_masker.mask_img_"
      ], 
      "outputs": [], 
      "metadata": {
        "collapsed": false
      }
    }, 
    {
      "source": [
        "Visualize the mask\n\n"
      ], 
      "cell_type": "markdown", 
      "metadata": {}
    }, 
    {
      "execution_count": null, 
      "cell_type": "code", 
      "source": [
        "from nilearn.plotting import plot_roi\nfrom nilearn.image.image import mean_img\n\n# calculate mean image for the background\nmean_func_img = mean_img(func_filename)\n\nplot_roi(mask_img, mean_func_img, display_mode='y', cut_coords=4, title=\"Mask\")"
      ], 
      "outputs": [], 
      "metadata": {
        "collapsed": false
      }
    }, 
    {
      "source": [
        "Preprocess data with the NiftiMasker\n\n"
      ], 
      "cell_type": "markdown", 
      "metadata": {}
    }, 
    {
      "execution_count": null, 
      "cell_type": "code", 
      "source": [
        "nifti_masker.fit(func_filename)\nfmri_masked = nifti_masker.transform(func_filename)\n# fmri_masked is now a 2D matrix, (n_voxels x n_time_points)"
      ], 
      "outputs": [], 
      "metadata": {
        "collapsed": false
      }
    }, 
    {
      "source": [
        "Run an algorithm\n\n"
      ], 
      "cell_type": "markdown", 
      "metadata": {}
    }, 
    {
      "execution_count": null, 
      "cell_type": "code", 
      "source": [
        "from sklearn.decomposition import FastICA\nn_components = 10\nica = FastICA(n_components=n_components, random_state=42)\ncomponents_masked = ica.fit_transform(fmri_masked.T).T"
      ], 
      "outputs": [], 
      "metadata": {
        "collapsed": false
      }
    }, 
    {
      "source": [
        "Reverse masking, and display the corresponding map\n\n"
      ], 
      "cell_type": "markdown", 
      "metadata": {}
    }, 
    {
      "execution_count": null, 
      "cell_type": "code", 
      "source": [
        "components = nifti_masker.inverse_transform(components_masked)\n\n# Visualize results\nfrom nilearn.plotting import plot_stat_map, show\nfrom nilearn.image import index_img\n\nplot_stat_map(index_img(components, 0), mean_func_img,\n              display_mode='y', cut_coords=4, title=\"Component 0\")\n\nshow()"
      ], 
      "outputs": [], 
      "metadata": {
        "collapsed": false
      }
    }
  ], 
  "metadata": {
    "kernelspec": {
      "display_name": "Python 2", 
      "name": "python2", 
      "language": "python"
    }, 
    "language_info": {
      "mimetype": "text/x-python", 
      "nbconvert_exporter": "python", 
      "name": "python", 
      "file_extension": ".py", 
      "version": "2.7.13", 
      "pygments_lexer": "ipython2", 
      "codemirror_mode": {
        "version": 2, 
        "name": "ipython"
      }
    }
  }
}