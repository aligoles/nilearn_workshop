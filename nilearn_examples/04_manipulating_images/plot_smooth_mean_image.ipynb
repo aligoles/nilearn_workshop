{
  "nbformat_minor": 0, 
  "nbformat": 4, 
  "cells": [
    {
      "execution_count": null, 
      "cell_type": "code", 
      "source": [
        "%matplotlib inline"
      ], 
      "outputs": [], 
      "metadata": {
        "collapsed": false
      }
    }, 
    {
      "source": [
        "\nSmoothing an image\n===================\n\nHere we smooth a mean EPI image and plot the result\n\nAs we vary the smoothing FWHM, note how we decrease the amount of noise,\nbut also loose spatial details. In general, the best amount of smoothing\nfor a given analysis depends on the spatial extent of the effects that\nare expected.\n\n\n"
      ], 
      "cell_type": "markdown", 
      "metadata": {}
    }, 
    {
      "execution_count": null, 
      "cell_type": "code", 
      "source": [
        "from nilearn import datasets, plotting, image\n\ndata = datasets.fetch_adhd(n_subjects=1)\n\n# Print basic information on the dataset\nprint('First subject functional nifti image (4D) are located at: %s' %\n      data.func[0])\n\nfirst_epi_file = data.func[0]\n\n# First the compute the mean image, from the 4D series of image\nmean_func = image.mean_img(first_epi_file)\n\n# Then we smooth, with a varying amount of smoothing, from none to 20mm\n# by increments of 5mm\nfor smoothing in range(0, 25, 5):\n    smoothed_img = image.smooth_img(mean_func, smoothing)\n    plotting.plot_epi(smoothed_img,\n                      title=\"Smoothing %imm\" % smoothing)\n\n\nplotting.show()"
      ], 
      "outputs": [], 
      "metadata": {
        "collapsed": false
      }
    }
  ], 
  "metadata": {
    "kernelspec": {
      "display_name": "Python 2", 
      "name": "python2", 
      "language": "python"
    }, 
    "language_info": {
      "mimetype": "text/x-python", 
      "nbconvert_exporter": "python", 
      "name": "python", 
      "file_extension": ".py", 
      "version": "2.7.13", 
      "pygments_lexer": "ipython2", 
      "codemirror_mode": {
        "version": 2, 
        "name": "ipython"
      }
    }
  }
}