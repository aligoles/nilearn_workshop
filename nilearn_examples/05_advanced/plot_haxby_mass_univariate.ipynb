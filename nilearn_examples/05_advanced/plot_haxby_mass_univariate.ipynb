{
  "nbformat_minor": 0, 
  "nbformat": 4, 
  "cells": [
    {
      "execution_count": null, 
      "cell_type": "code", 
      "source": [
        "%matplotlib inline"
      ], 
      "outputs": [], 
      "metadata": {
        "collapsed": false
      }
    }, 
    {
      "source": [
        "\nMassively univariate analysis of face vs house recognition\n==========================================================\n\nA permuted Ordinary Least Squares algorithm is run at each voxel in\norder to detemine whether or not it behaves differently under a \"face\nviewing\" condition and a \"house viewing\" condition.\nWe consider the mean image per session and per condition.\nOtherwise, the observations cannot be exchanged at random because\na time dependance exists between observations within a same session\n(see [1] for more detailed explanations).\n\nThe example shows the small differences that exist between\nBonferroni-corrected p-values and family-wise corrected p-values obtained\nfrom a permutation test combined with a max-type procedure [2].\nBonferroni correction is a bit conservative, as revealed by the presence of\na few false negative.\n\nReferences\n----------\n[1] Winkler, A. M. et al. (2014).\n    Permutation inference for the general linear model. Neuroimage.\n\n[2] Anderson, M. J. & Robinson, J. (2001).\n    Permutation tests for linear models.\n    Australian & New Zealand Journal of Statistics, 43(1), 75-88.\n    (http://avesbiodiv.mncn.csic.es/estadistica/permut2.pdf)\n\n\n"
      ], 
      "cell_type": "markdown", 
      "metadata": {}
    }, 
    {
      "execution_count": null, 
      "cell_type": "code", 
      "source": [
        "# Author: Virgile Fritsch, <virgile.fritsch@inria.fr>, Feb. 2014"
      ], 
      "outputs": [], 
      "metadata": {
        "collapsed": false
      }
    }, 
    {
      "source": [
        "Load Haxby dataset\n\n"
      ], 
      "cell_type": "markdown", 
      "metadata": {}
    }, 
    {
      "execution_count": null, 
      "cell_type": "code", 
      "source": [
        "from nilearn import datasets\nhaxby_dataset = datasets.fetch_haxby(subjects=[2])\n\n# print basic information on the dataset\nprint('Mask nifti image (3D) is located at: %s' % haxby_dataset.mask)\nprint('Functional nifti image (4D) is located at: %s' % haxby_dataset.func[0])"
      ], 
      "outputs": [], 
      "metadata": {
        "collapsed": false
      }
    }, 
    {
      "source": [
        "Mask data\n\n"
      ], 
      "cell_type": "markdown", 
      "metadata": {}
    }, 
    {
      "execution_count": null, 
      "cell_type": "code", 
      "source": [
        "mask_filename = haxby_dataset.mask\nfrom nilearn.input_data import NiftiMasker\nnifti_masker = NiftiMasker(\n    smoothing_fwhm=8,\n    mask_img=mask_filename,\n    memory='nilearn_cache', memory_level=1)  # cache options\nfunc_filename = haxby_dataset.func[0]\nfmri_masked = nifti_masker.fit_transform(func_filename)"
      ], 
      "outputs": [], 
      "metadata": {
        "collapsed": false
      }
    }, 
    {
      "source": [
        "Restrict to faces and houses\n\n"
      ], 
      "cell_type": "markdown", 
      "metadata": {}
    }, 
    {
      "execution_count": null, 
      "cell_type": "code", 
      "source": [
        "import numpy as np\nlabels = np.recfromcsv(haxby_dataset.session_target[0], delimiter=\" \")\nconditions = labels['labels']\ncategories = np.unique(conditions)\nconditions_encoded = np.zeros_like(conditions)\nfor c, category in enumerate(categories):\n    conditions_encoded[conditions == category] = c\nsessions = labels['chunks']\ncondition_mask = np.logical_or(conditions == b'face', conditions == b'house')\nconditions_encoded = conditions_encoded[condition_mask]\nfmri_masked = fmri_masked[condition_mask]\n\n# We consider the mean image per session and per condition.\n# Otherwise, the observations cannot be exchanged at random because\n# a time dependence exists between observations within a same session.\nn_sessions = np.unique(sessions).size\ngrouped_fmri_masked = np.empty((2 * n_sessions,  # two conditions per session\n                                fmri_masked.shape[1]))\ngrouped_conditions_encoded = np.empty((2 * n_sessions, 1))\n\nfor s in range(n_sessions):\n    session_mask = sessions[condition_mask] == s\n    session_house_mask = np.logical_and(session_mask,\n                                        conditions[condition_mask] == b'house')\n    session_face_mask = np.logical_and(session_mask,\n                                       conditions[condition_mask] == b'face')\n    grouped_fmri_masked[2 * s] = fmri_masked[session_house_mask].mean(0)\n    grouped_fmri_masked[2 * s + 1] = fmri_masked[session_face_mask].mean(0)\n    grouped_conditions_encoded[2 * s] = conditions_encoded[\n        session_house_mask][0]\n    grouped_conditions_encoded[2 * s + 1] = conditions_encoded[\n        session_face_mask][0]"
      ], 
      "outputs": [], 
      "metadata": {
        "collapsed": false
      }
    }, 
    {
      "source": [
        "Perform massively univariate analysis with permuted OLS\n\nWe use a two-sided t-test to compute p-values, but we keep trace of the\neffect sign to add it back at the end and thus observe the signed effect\n\n"
      ], 
      "cell_type": "markdown", 
      "metadata": {}
    }, 
    {
      "execution_count": null, 
      "cell_type": "code", 
      "source": [
        "from nilearn.mass_univariate import permuted_ols\nneg_log_pvals, t_scores_original_data, _ = permuted_ols(\n    grouped_conditions_encoded, grouped_fmri_masked,\n    # + intercept as a covariate by default\n    n_perm=10000, two_sided_test=True,\n    n_jobs=1)  # can be changed to use more CPUs\nsigned_neg_log_pvals = neg_log_pvals * np.sign(t_scores_original_data)\nsigned_neg_log_pvals_unmasked = nifti_masker.inverse_transform(\n    signed_neg_log_pvals)"
      ], 
      "outputs": [], 
      "metadata": {
        "collapsed": false
      }
    }, 
    {
      "source": [
        "scikit-learn F-scores for comparison\n\nF-test does not allow to observe the effect sign (pure two-sided test)\n\n"
      ], 
      "cell_type": "markdown", 
      "metadata": {}
    }, 
    {
      "execution_count": null, 
      "cell_type": "code", 
      "source": [
        "from sklearn.feature_selection import f_regression\n_, pvals_bonferroni = f_regression(\n    grouped_fmri_masked,\n    grouped_conditions_encoded)  # f_regression implicitly adds intercept\npvals_bonferroni *= fmri_masked.shape[1]\npvals_bonferroni[np.isnan(pvals_bonferroni)] = 1\npvals_bonferroni[pvals_bonferroni > 1] = 1\nneg_log_pvals_bonferroni = -np.log10(pvals_bonferroni)\nneg_log_pvals_bonferroni_unmasked = nifti_masker.inverse_transform(\n    neg_log_pvals_bonferroni)"
      ], 
      "outputs": [], 
      "metadata": {
        "collapsed": false
      }
    }, 
    {
      "source": [
        "Visualization\n\n"
      ], 
      "cell_type": "markdown", 
      "metadata": {}
    }, 
    {
      "execution_count": null, 
      "cell_type": "code", 
      "source": [
        "import matplotlib.pyplot as plt\nfrom nilearn.plotting import plot_stat_map, show\n\n# Use the fmri mean image as a surrogate of anatomical data\nfrom nilearn import image\nmean_fmri_img = image.mean_img(func_filename)\n\nthreshold = -np.log10(0.1)  # 10% corrected\n\nvmax = min(signed_neg_log_pvals.max(),\n           neg_log_pvals_bonferroni.max())\n\n# Plot thresholded p-values map corresponding to F-scores\ndisplay = plot_stat_map(neg_log_pvals_bonferroni_unmasked, mean_fmri_img,\n                        threshold=threshold, cmap=plt.cm.RdBu_r,\n                        display_mode='z', cut_coords=[-1, ],\n                        vmax=vmax)\n\nneg_log_pvals_bonferroni_data = neg_log_pvals_bonferroni_unmasked.get_data()\nn_detections = (neg_log_pvals_bonferroni_data > threshold).sum()\ntitle = ('Negative $\\log_{10}$ p-values'\n         '\\n(Parametric two-sided F-test'\n         '\\n+ Bonferroni correction)'\n         '\\n%d detections') % n_detections\n\ndisplay.title(title, y=1.1)\n\n# Plot permutation p-values map\ndisplay = plot_stat_map(signed_neg_log_pvals_unmasked, mean_fmri_img,\n                        threshold=threshold, cmap=plt.cm.RdBu_r,\n                        display_mode='z', cut_coords=[-1, ],\n                        vmax=vmax)\n\nn_detections = (np.abs(signed_neg_log_pvals) > threshold).sum()\ntitle = ('Negative $\\log_{10}$ p-values'\n         '\\n(Non-parametric two-sided test'\n         '\\n+ max-type correction)'\n         '\\n%d detections') % n_detections\n\ndisplay.title(title, y=1.1)\n\nshow()"
      ], 
      "outputs": [], 
      "metadata": {
        "collapsed": false
      }
    }
  ], 
  "metadata": {
    "kernelspec": {
      "display_name": "Python 2", 
      "name": "python2", 
      "language": "python"
    }, 
    "language_info": {
      "mimetype": "text/x-python", 
      "nbconvert_exporter": "python", 
      "name": "python", 
      "file_extension": ".py", 
      "version": "2.7.13", 
      "pygments_lexer": "ipython2", 
      "codemirror_mode": {
        "version": 2, 
        "name": "ipython"
      }
    }
  }
}