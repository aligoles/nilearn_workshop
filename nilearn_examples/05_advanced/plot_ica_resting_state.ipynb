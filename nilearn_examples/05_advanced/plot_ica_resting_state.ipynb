{
  "nbformat_minor": 0, 
  "nbformat": 4, 
  "cells": [
    {
      "execution_count": null, 
      "cell_type": "code", 
      "source": [
        "%matplotlib inline"
      ], 
      "outputs": [], 
      "metadata": {
        "collapsed": false
      }
    }, 
    {
      "source": [
        "\nMultivariate decompositions: Independent component analysis of fMRI\n===================================================================\n\n\nThis example is meant to demonstrate nilearn as a low-level tools used to\ncombine feature extraction with a multivariate decomposition algorithm\nfor resting state.\n\nThis example is a toy. To apply ICA to resting-state data, it is advised\nto look at the example\n`sphx_glr_auto_examples_03_connectivity_plot_canica_resting_state.py`.\n\nThe example here applies the scikit-learn ICA to resting-state data.\nNote that following the code in the example, any unsupervised\ndecomposition model, or other latent-factor models, can be applied to\nthe data, as the scikit-learn API enables to exchange them as almost\nblack box (though the relevant parameter for brain maps might no longer\nbe given by a call to fit_transform).\n\n\n"
      ], 
      "cell_type": "markdown", 
      "metadata": {}
    }, 
    {
      "source": [
        "Load ADHD dataset\n\n"
      ], 
      "cell_type": "markdown", 
      "metadata": {}
    }, 
    {
      "execution_count": null, 
      "cell_type": "code", 
      "source": [
        "from nilearn import datasets\n# Here we use only 3 subjects to get faster-running code. For better\n# results, simply increase this number\n# XXX: must get the code to run for more than 1 subject\ndataset = datasets.fetch_adhd(n_subjects=1)\nfunc_filename = dataset.func[0]\n\n# print basic information on the dataset\nprint('First subject functional nifti image (4D) is at: %s' %\n      dataset.func[0])  # 4D data"
      ], 
      "outputs": [], 
      "metadata": {
        "collapsed": false
      }
    }, 
    {
      "source": [
        "Preprocess\n\n"
      ], 
      "cell_type": "markdown", 
      "metadata": {}
    }, 
    {
      "execution_count": null, 
      "cell_type": "code", 
      "source": [
        "from nilearn.input_data import NiftiMasker\n\n# This is resting-state data: the background has not been removed yet,\n# thus we need to use mask_strategy='epi' to compute the mask from the\n# EPI images\nmasker = NiftiMasker(smoothing_fwhm=8, memory='nilearn_cache', memory_level=1,\n                     mask_strategy='epi', standardize=True)\ndata_masked = masker.fit_transform(func_filename)\n\n# Concatenate all the subjects\n# fmri_data = np.concatenate(data_masked, axis=1)\nfmri_data = data_masked"
      ], 
      "outputs": [], 
      "metadata": {
        "collapsed": false
      }
    }, 
    {
      "source": [
        "Apply ICA\n\n"
      ], 
      "cell_type": "markdown", 
      "metadata": {}
    }, 
    {
      "execution_count": null, 
      "cell_type": "code", 
      "source": [
        "from sklearn.decomposition import FastICA\nn_components = 10\nica = FastICA(n_components=n_components, random_state=42)\ncomponents_masked = ica.fit_transform(data_masked.T).T\n\n# Normalize estimated components, for thresholding to make sense\ncomponents_masked -= components_masked.mean(axis=0)\ncomponents_masked /= components_masked.std(axis=0)\n# Threshold\nimport numpy as np\ncomponents_masked[np.abs(components_masked) < .8] = 0\n\n# Now invert the masking operation, going back to a full 3D\n# representation\ncomponent_img = masker.inverse_transform(components_masked)"
      ], 
      "outputs": [], 
      "metadata": {
        "collapsed": false
      }
    }, 
    {
      "source": [
        "Visualize the results\n\n"
      ], 
      "cell_type": "markdown", 
      "metadata": {}
    }, 
    {
      "execution_count": null, 
      "cell_type": "code", 
      "source": [
        "# Show some interesting components\nfrom nilearn import image\nfrom nilearn.plotting import plot_stat_map, show\n\n# Use the mean as a background\nmean_img = image.mean_img(func_filename)\n\nplot_stat_map(image.index_img(component_img, 0), mean_img)\n\nplot_stat_map(image.index_img(component_img, 1), mean_img)\n\nshow()"
      ], 
      "outputs": [], 
      "metadata": {
        "collapsed": false
      }
    }
  ], 
  "metadata": {
    "kernelspec": {
      "display_name": "Python 2", 
      "name": "python2", 
      "language": "python"
    }, 
    "language_info": {
      "mimetype": "text/x-python", 
      "nbconvert_exporter": "python", 
      "name": "python", 
      "file_extension": ".py", 
      "version": "2.7.13", 
      "pygments_lexer": "ipython2", 
      "codemirror_mode": {
        "version": 2, 
        "name": "ipython"
      }
    }
  }
}