{
  "nbformat_minor": 0, 
  "nbformat": 4, 
  "cells": [
    {
      "execution_count": null, 
      "cell_type": "code", 
      "source": [
        "%matplotlib inline"
      ], 
      "outputs": [], 
      "metadata": {
        "collapsed": false
      }
    }, 
    {
      "source": [
        "\nMassively univariate analysis of a motor task from the Localizer dataset\n========================================================================\n\nThis example shows the results obtained in a massively univariate\nanalysis performed at the inter-subject level with various methods.\nWe use the [left button press (auditory cue)] task from the Localizer\ndataset and seek association between the contrast values and a variate\nthat measures the speed of pseudo-word reading. No confounding variate\nis included in the model.\n\n1. A standard Anova is performed. Data smoothed at 5 voxels FWHM are used.\n\n2. A permuted Ordinary Least Squares algorithm is run at each voxel. Data\n   smoothed at 5 voxels FWHM are used.\n\n\n\n"
      ], 
      "cell_type": "markdown", 
      "metadata": {}
    }, 
    {
      "execution_count": null, 
      "cell_type": "code", 
      "source": [
        "# Author: Virgile Fritsch, <virgile.fritsch@inria.fr>, May. 2014\nimport numpy as np\nimport matplotlib.pyplot as plt\nfrom nilearn import datasets\nfrom nilearn.input_data import NiftiMasker\nfrom nilearn.mass_univariate import permuted_ols"
      ], 
      "outputs": [], 
      "metadata": {
        "collapsed": false
      }
    }, 
    {
      "source": [
        "Load Localizer contrast\n\n"
      ], 
      "cell_type": "markdown", 
      "metadata": {}
    }, 
    {
      "execution_count": null, 
      "cell_type": "code", 
      "source": [
        "n_samples = 94\nlocalizer_dataset = datasets.fetch_localizer_contrasts(\n    ['left button press (auditory cue)'], n_subjects=n_samples)\n\n# print basic information on the dataset\nprint('First contrast nifti image (3D) is located at: %s' %\n      localizer_dataset.cmaps[0])\n\ntested_var = localizer_dataset.ext_vars['pseudo']\n# Quality check / Remove subjects with bad tested variate\nmask_quality_check = np.where(tested_var != b'None')[0]\nn_samples = mask_quality_check.size\ncontrast_map_filenames = [localizer_dataset.cmaps[i]\n                          for i in mask_quality_check]\ntested_var = tested_var[mask_quality_check].astype(float).reshape((-1, 1))\nprint(\"Actual number of subjects after quality check: %d\" % n_samples)"
      ], 
      "outputs": [], 
      "metadata": {
        "collapsed": false
      }
    }, 
    {
      "source": [
        "Mask data\n\n"
      ], 
      "cell_type": "markdown", 
      "metadata": {}
    }, 
    {
      "execution_count": null, 
      "cell_type": "code", 
      "source": [
        "nifti_masker = NiftiMasker(\n    smoothing_fwhm=5,\n    memory='nilearn_cache', memory_level=1)  # cache options\nfmri_masked = nifti_masker.fit_transform(contrast_map_filenames)"
      ], 
      "outputs": [], 
      "metadata": {
        "collapsed": false
      }
    }, 
    {
      "source": [
        "Anova (parametric F-scores)\n\n"
      ], 
      "cell_type": "markdown", 
      "metadata": {}
    }, 
    {
      "execution_count": null, 
      "cell_type": "code", 
      "source": [
        "from sklearn.feature_selection import f_regression\n_, pvals_anova = f_regression(fmri_masked, tested_var, center=True)\npvals_anova *= fmri_masked.shape[1]\npvals_anova[np.isnan(pvals_anova)] = 1\npvals_anova[pvals_anova > 1] = 1\nneg_log_pvals_anova = - np.log10(pvals_anova)\nneg_log_pvals_anova_unmasked = nifti_masker.inverse_transform(\n    neg_log_pvals_anova)"
      ], 
      "outputs": [], 
      "metadata": {
        "collapsed": false
      }
    }, 
    {
      "source": [
        "Perform massively univariate analysis with permuted OLS\n\n"
      ], 
      "cell_type": "markdown", 
      "metadata": {}
    }, 
    {
      "execution_count": null, 
      "cell_type": "code", 
      "source": [
        "neg_log_pvals_permuted_ols, _, _ = permuted_ols(\n    tested_var, fmri_masked,\n    model_intercept=True,\n    n_perm=5000,  # 5,000 for the sake of time. Idealy, this should be 10,000\n    n_jobs=1)  # can be changed to use more CPUs\nneg_log_pvals_permuted_ols_unmasked = nifti_masker.inverse_transform(\n    np.ravel(neg_log_pvals_permuted_ols))"
      ], 
      "outputs": [], 
      "metadata": {
        "collapsed": false
      }
    }, 
    {
      "source": [
        "Visualization\n\n"
      ], 
      "cell_type": "markdown", 
      "metadata": {}
    }, 
    {
      "execution_count": null, 
      "cell_type": "code", 
      "source": [
        "from nilearn.plotting import plot_stat_map, show\n\n# Various plotting parameters\nz_slice = 12  # plotted slice\n\nthreshold = - np.log10(0.1)  # 10% corrected\nvmax = min(np.amax(neg_log_pvals_permuted_ols),\n           np.amax(neg_log_pvals_anova))\n\n# Plot Anova p-values\nfig = plt.figure(figsize=(5, 7), facecolor='k')\n\ndisplay = plot_stat_map(neg_log_pvals_anova_unmasked,\n                        threshold=threshold,\n                        display_mode='z', cut_coords=[z_slice],\n                        figure=fig, vmax=vmax, black_bg=True)\n\nn_detections = (neg_log_pvals_anova_unmasked.get_data() > threshold).sum()\ntitle = ('Negative $\\log_{10}$ p-values'\n         '\\n(Parametric + Bonferroni correction)'\n         '\\n%d detections') % n_detections\n\ndisplay.title(title, y=1.2)\n\n# Plot permuted OLS p-values\nfig = plt.figure(figsize=(5, 7), facecolor='k')\n\ndisplay = plot_stat_map(neg_log_pvals_permuted_ols_unmasked,\n                        threshold=threshold,\n                        display_mode='z', cut_coords=[z_slice],\n                        figure=fig, vmax=vmax, black_bg=True)\n\nn_detections = (neg_log_pvals_permuted_ols_unmasked.get_data()\n                > threshold).sum()\ntitle = ('Negative $\\log_{10}$ p-values'\n         '\\n(Non-parametric + max-type correction)'\n         '\\n%d detections') % n_detections\n\ndisplay.title(title, y=1.2)\n\nshow()"
      ], 
      "outputs": [], 
      "metadata": {
        "collapsed": false
      }
    }
  ], 
  "metadata": {
    "kernelspec": {
      "display_name": "Python 2", 
      "name": "python2", 
      "language": "python"
    }, 
    "language_info": {
      "mimetype": "text/x-python", 
      "nbconvert_exporter": "python", 
      "name": "python", 
      "file_extension": ".py", 
      "version": "2.7.13", 
      "pygments_lexer": "ipython2", 
      "codemirror_mode": {
        "version": 2, 
        "name": "ipython"
      }
    }
  }
}