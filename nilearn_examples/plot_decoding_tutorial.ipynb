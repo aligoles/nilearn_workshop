{
  "nbformat_minor": 0, 
  "nbformat": 4, 
  "cells": [
    {
      "execution_count": null, 
      "cell_type": "code", 
      "source": [
        "%matplotlib inline"
      ], 
      "outputs": [], 
      "metadata": {
        "collapsed": false
      }
    }, 
    {
      "source": [
        "\nA introduction tutorial to fMRI decoding\n==========================================\n\nHere is a simple tutorial on decoding with nilearn. It reproduces the\nHaxby 2001 study on a face vs cat discrimination task in a mask of the\nventral stream.\n\nThis tutorial is meant as an introduction to the various steps of a\ndecoding analysis.\n\nIt is not a minimalistic example, as it strives to be didactic. It is not\nmeant to be copied to analyze new data: many of the steps are unecessary.\n    :depth: 1\n\n\n\n"
      ], 
      "cell_type": "markdown", 
      "metadata": {}
    }, 
    {
      "source": [
        "Retrieve and load the fMRI data from the  Haxby study\n-----------------------------------------------------\n\nFirst download the data\n.......................\n\nThe :func:`nilearn.datasets.fetch_haxby` function will download the\nHaxby dataset if not present on the disk, in the nilearn data directory.\nIt can take a while to download about 310 Mo of data from the Internet.\n\n"
      ], 
      "cell_type": "markdown", 
      "metadata": {}
    }, 
    {
      "execution_count": null, 
      "cell_type": "code", 
      "source": [
        "from nilearn import datasets\n# By default 2nd subject will be fetched\nhaxby_dataset = datasets.fetch_haxby()\n# 'func' is a list of filenames: one for each subject\nfmri_filename = haxby_dataset.func[0]\n\n# print basic information on the dataset\nprint('First subject functional nifti images (4D) are at: %s' %\n      fmri_filename)  # 4D data"
      ], 
      "outputs": [], 
      "metadata": {
        "collapsed": false
      }
    }, 
    {
      "source": [
        "Convert the fMRI volume's to a data matrix\n..........................................\n\nWe will use the :class:`nilearn.input_data.NiftiMasker` to extract the\nfMRI data on a mask and convert it to data series.\n\nThe mask is a mask of the Ventral Temporal streaming coming from the\nHaxby study:\n\n"
      ], 
      "cell_type": "markdown", 
      "metadata": {}
    }, 
    {
      "execution_count": null, 
      "cell_type": "code", 
      "source": [
        "mask_filename = haxby_dataset.mask_vt[0]\n\n# Let's visualize it, using the subject's anatomical image as a\n# background\nfrom nilearn import plotting\nplotting.plot_roi(mask_filename, bg_img=haxby_dataset.anat[0],\n                 cmap='Paired')"
      ], 
      "outputs": [], 
      "metadata": {
        "collapsed": false
      }
    }, 
    {
      "source": [
        "Now we use the NiftiMasker.\n\nWe first create a masker, giving it the options that we care\nabout. Here we use standardizing of the data, as it is often important\nfor decoding\n\n"
      ], 
      "cell_type": "markdown", 
      "metadata": {}
    }, 
    {
      "execution_count": null, 
      "cell_type": "code", 
      "source": [
        "from nilearn.input_data import NiftiMasker\nmasker = NiftiMasker(mask_img=mask_filename, standardize=True)\n\n# We give the masker a filename and retrieve a 2D array ready\n# for machine learning with scikit-learn\nfmri_masked = masker.fit_transform(fmri_filename)"
      ], 
      "outputs": [], 
      "metadata": {
        "collapsed": false
      }
    }, 
    {
      "source": [
        "The variable \"fmri_masked\" is a numpy array:\n\n"
      ], 
      "cell_type": "markdown", 
      "metadata": {}
    }, 
    {
      "execution_count": null, 
      "cell_type": "code", 
      "source": [
        "print(fmri_masked)"
      ], 
      "outputs": [], 
      "metadata": {
        "collapsed": false
      }
    }, 
    {
      "source": [
        "Its shape corresponds to the number of time-points times the number of\nvoxels in the mask\n\n"
      ], 
      "cell_type": "markdown", 
      "metadata": {}
    }, 
    {
      "execution_count": null, 
      "cell_type": "code", 
      "source": [
        "print(fmri_masked.shape)"
      ], 
      "outputs": [], 
      "metadata": {
        "collapsed": false
      }
    }, 
    {
      "source": [
        "Load the behavioral labels\n..........................\n\nThe behavioral labels are stored in a CSV file, separated by spaces.\n\nWe use numpy to load them in an array.\n\n"
      ], 
      "cell_type": "markdown", 
      "metadata": {}
    }, 
    {
      "execution_count": null, 
      "cell_type": "code", 
      "source": [
        "import numpy as np\n# Load behavioral information\nbehavioral = np.recfromcsv(haxby_dataset.session_target[0], delimiter=\" \")\nprint(behavioral)"
      ], 
      "outputs": [], 
      "metadata": {
        "collapsed": false
      }
    }, 
    {
      "source": [
        "Retrieve the experimental conditions, that we are going to use as\nprediction targets in the decoding\n\n"
      ], 
      "cell_type": "markdown", 
      "metadata": {}
    }, 
    {
      "execution_count": null, 
      "cell_type": "code", 
      "source": [
        "conditions = behavioral['labels']\nprint(conditions)"
      ], 
      "outputs": [], 
      "metadata": {
        "collapsed": false
      }
    }, 
    {
      "source": [
        "Restrict the analysis to cats and faces\n........................................\n\nAs we can see from the targets above, the experiment contains many\nconditions, not all that interest us for decoding.\n\nTo keep only data corresponding to faces or cats, we create a\nmask of the samples belonging to the condition.\n\n"
      ], 
      "cell_type": "markdown", 
      "metadata": {}
    }, 
    {
      "execution_count": null, 
      "cell_type": "code", 
      "source": [
        "condition_mask = np.logical_or(conditions == b'face', conditions == b'cat')\n\n# We apply this mask in the sampe direction to restrict the\n# classification to the face vs cat discrimination\nfmri_masked = fmri_masked[condition_mask]"
      ], 
      "outputs": [], 
      "metadata": {
        "collapsed": false
      }
    }, 
    {
      "source": [
        "We now have less samples\n\n"
      ], 
      "cell_type": "markdown", 
      "metadata": {}
    }, 
    {
      "execution_count": null, 
      "cell_type": "code", 
      "source": [
        "print(fmri_masked.shape)"
      ], 
      "outputs": [], 
      "metadata": {
        "collapsed": false
      }
    }, 
    {
      "source": [
        "We apply the same mask to the targets\n\n"
      ], 
      "cell_type": "markdown", 
      "metadata": {}
    }, 
    {
      "execution_count": null, 
      "cell_type": "code", 
      "source": [
        "conditions = conditions[condition_mask]\nprint(conditions.shape)"
      ], 
      "outputs": [], 
      "metadata": {
        "collapsed": false
      }
    }, 
    {
      "source": [
        "Decoding with an SVM\n----------------------\n\nWe will now use the `scikit-learn <http://www.scikit-learn.org>`_\nmachine-learning toolbox on the fmri_masked data.\n\nAs a decoder, we use a Support Vector Classification, with a linear\nkernel.\n\nWe first create it:\n\n"
      ], 
      "cell_type": "markdown", 
      "metadata": {}
    }, 
    {
      "execution_count": null, 
      "cell_type": "code", 
      "source": [
        "from sklearn.svm import SVC\nsvc = SVC(kernel='linear')\nprint(svc)"
      ], 
      "outputs": [], 
      "metadata": {
        "collapsed": false
      }
    }, 
    {
      "source": [
        "The svc object is an object that can be fit (or trained) on data with\nlabels, and then predict labels on data without.\n\nWe first fit it on the data\n\n"
      ], 
      "cell_type": "markdown", 
      "metadata": {}
    }, 
    {
      "execution_count": null, 
      "cell_type": "code", 
      "source": [
        "svc.fit(fmri_masked, conditions)"
      ], 
      "outputs": [], 
      "metadata": {
        "collapsed": false
      }
    }, 
    {
      "source": [
        "We can then predict the labels from the data\n\n"
      ], 
      "cell_type": "markdown", 
      "metadata": {}
    }, 
    {
      "execution_count": null, 
      "cell_type": "code", 
      "source": [
        "prediction = svc.predict(fmri_masked)\nprint(prediction)"
      ], 
      "outputs": [], 
      "metadata": {
        "collapsed": false
      }
    }, 
    {
      "source": [
        "Let's measure the error rate:\n\n"
      ], 
      "cell_type": "markdown", 
      "metadata": {}
    }, 
    {
      "execution_count": null, 
      "cell_type": "code", 
      "source": [
        "print((prediction == conditions).sum() / float(len(conditions)))"
      ], 
      "outputs": [], 
      "metadata": {
        "collapsed": false
      }
    }, 
    {
      "source": [
        "This error rate is meaningless. Why?\n\n"
      ], 
      "cell_type": "markdown", 
      "metadata": {}
    }, 
    {
      "source": [
        "Measuring prediction scores using cross-validation\n---------------------------------------------------\n\nThe proper way to measure error rates or prediction accuracy is via\ncross-validation: leaving out some data and testing on it.\n\nManually leaving out data\n..........................\n\nLet's leave out the 30 last data points during training, and test the\nprediction on these 30 last points:\n\n"
      ], 
      "cell_type": "markdown", 
      "metadata": {}
    }, 
    {
      "execution_count": null, 
      "cell_type": "code", 
      "source": [
        "svc.fit(fmri_masked[:-30], conditions[:-30])\n\nprediction = svc.predict(fmri_masked[-30:])\nprint((prediction == conditions[-30:]).sum() / float(len(conditions[-30:])))"
      ], 
      "outputs": [], 
      "metadata": {
        "collapsed": false
      }
    }, 
    {
      "source": [
        "Implementing a KFold loop\n.........................\n\nWe can split the data in train and test set repetitively in a `KFold`\nstrategy:\n\n"
      ], 
      "cell_type": "markdown", 
      "metadata": {}
    }, 
    {
      "execution_count": null, 
      "cell_type": "code", 
      "source": [
        "from sklearn.cross_validation import KFold\n\ncv = KFold(n=len(fmri_masked), n_folds=5)\n\nfor train, test in cv:\n    svc.fit(fmri_masked[train], conditions[train])\n    prediction = svc.predict(fmri_masked[test])\n    print((prediction == conditions[test]).sum() / float(len(conditions[test])))"
      ], 
      "outputs": [], 
      "metadata": {
        "collapsed": false
      }
    }, 
    {
      "source": [
        "Cross-validation with scikit-learn\n...................................\n\nScikit-learn has tools to perform cross-validation easier:\n\n"
      ], 
      "cell_type": "markdown", 
      "metadata": {}
    }, 
    {
      "execution_count": null, 
      "cell_type": "code", 
      "source": [
        "from sklearn.cross_validation import cross_val_score\ncv_score = cross_val_score(svc, fmri_masked, conditions)\nprint(cv_score)"
      ], 
      "outputs": [], 
      "metadata": {
        "collapsed": false
      }
    }, 
    {
      "source": [
        "Note that we can speed things up to use all the CPUs of our computer\nwith the n_jobs parameter.\n\nBy default, cross_val_score uses a 3-fold KFold. We can control this by\npassing the \"cv\" object, here a 5-fold:\n\n"
      ], 
      "cell_type": "markdown", 
      "metadata": {}
    }, 
    {
      "execution_count": null, 
      "cell_type": "code", 
      "source": [
        "cv_score = cross_val_score(svc, fmri_masked, conditions, cv=cv)\nprint(cv_score)"
      ], 
      "outputs": [], 
      "metadata": {
        "collapsed": false
      }
    }, 
    {
      "source": [
        "The best way to do cross-validation is to respect the structure of\nthe experiment, for instance by leaving out full sessions of\nacquisition.\n\nThe number of the session is stored in the CSV file giving the\nbehavioral data. We have to apply our session mask, to select only cats\nand faces. To leave a session out, we pass it to a\nLeaveOneLabelOut object:\n\n"
      ], 
      "cell_type": "markdown", 
      "metadata": {}
    }, 
    {
      "execution_count": null, 
      "cell_type": "code", 
      "source": [
        "session_label = behavioral['chunks'][condition_mask]\n\nfrom sklearn.cross_validation import LeaveOneLabelOut\ncv = LeaveOneLabelOut(session_label)\ncv_score = cross_val_score(svc, fmri_masked, conditions, cv=cv)\nprint(cv_score)"
      ], 
      "outputs": [], 
      "metadata": {
        "collapsed": false
      }
    }, 
    {
      "source": [
        "Inspecting the model weights\n-----------------------------\n\nFinally, it may be useful to inspect and display the model weights.\n\nTurning the weights into a nifti image\n.......................................\n\nWe retrieve the SVC discriminating weights\n\n"
      ], 
      "cell_type": "markdown", 
      "metadata": {}
    }, 
    {
      "execution_count": null, 
      "cell_type": "code", 
      "source": [
        "coef_ = svc.coef_\nprint(coef_)"
      ], 
      "outputs": [], 
      "metadata": {
        "collapsed": false
      }
    }, 
    {
      "source": [
        "It's a numpy array\n\n"
      ], 
      "cell_type": "markdown", 
      "metadata": {}
    }, 
    {
      "execution_count": null, 
      "cell_type": "code", 
      "source": [
        "print(coef_.shape)"
      ], 
      "outputs": [], 
      "metadata": {
        "collapsed": false
      }
    }, 
    {
      "source": [
        "We need to turn it back into a Nifti image, in essence, \"inverting\"\nwhat the NiftiMasker has done.\n\nFor this, we can call inverse_transform on the NiftiMasker:\n\n"
      ], 
      "cell_type": "markdown", 
      "metadata": {}
    }, 
    {
      "execution_count": null, 
      "cell_type": "code", 
      "source": [
        "coef_img = masker.inverse_transform(coef_)\nprint(coef_img)"
      ], 
      "outputs": [], 
      "metadata": {
        "collapsed": false
      }
    }, 
    {
      "source": [
        "coef_img is now a NiftiImage.\n\nWe can save the coefficients as a nii.gz file:\n\n"
      ], 
      "cell_type": "markdown", 
      "metadata": {}
    }, 
    {
      "execution_count": null, 
      "cell_type": "code", 
      "source": [
        "coef_img.to_filename('haxby_svc_weights.nii.gz')"
      ], 
      "outputs": [], 
      "metadata": {
        "collapsed": false
      }
    }, 
    {
      "source": [
        "Plotting the SVM weights\n.........................\n\nWe can plot the weights, using the subject's anatomical as a background\n\n"
      ], 
      "cell_type": "markdown", 
      "metadata": {}
    }, 
    {
      "execution_count": null, 
      "cell_type": "code", 
      "source": [
        "from nilearn.plotting import plot_stat_map, show\n\nplot_stat_map(coef_img, bg_img=haxby_dataset.anat[0],\n              title=\"SVM weights\", display_mode=\"yx\")\n\nshow()"
      ], 
      "outputs": [], 
      "metadata": {
        "collapsed": false
      }
    }, 
    {
      "source": [
        "Further reading\n----------------\n\n* The `section of the documentation on decoding <decoding>`\n\n* `sphx_glr_auto_examples_02_decoding_plot_haxby_anova_svm.py`\n  For decoding without a precomputed mask\n\n* `space_net`\n\n______________\n\n"
      ], 
      "cell_type": "markdown", 
      "metadata": {}
    }
  ], 
  "metadata": {
    "kernelspec": {
      "display_name": "Python 2", 
      "name": "python2", 
      "language": "python"
    }, 
    "language_info": {
      "mimetype": "text/x-python", 
      "nbconvert_exporter": "python", 
      "name": "python", 
      "file_extension": ".py", 
      "version": "2.7.13", 
      "pygments_lexer": "ipython2", 
      "codemirror_mode": {
        "version": 2, 
        "name": "ipython"
      }
    }
  }
}